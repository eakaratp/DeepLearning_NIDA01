{
 "cells": [
  {
   "cell_type": "code",
   "execution_count": 70,
   "metadata": {
    "colab": {
     "base_uri": "https://localhost:8080/",
     "height": 206
    },
    "executionInfo": {
     "elapsed": 325,
     "status": "ok",
     "timestamp": 1643180078369,
     "user": {
      "displayName": "nattipon itponjaroen",
      "photoUrl": "https://lh3.googleusercontent.com/a-/AOh14GijerWfRW-l0FArC5Lor3SKFFNwnAxa1--Kz4XZ=s64",
      "userId": "05537445625009933944"
     },
     "user_tz": -420
    },
    "id": "2NLa9R5EBC6M",
    "outputId": "4c990a93-1b34-4c78-dae5-b6122df272ed"
   },
   "outputs": [
    {
     "data": {
      "text/html": [
       "<div>\n",
       "<style scoped>\n",
       "    .dataframe tbody tr th:only-of-type {\n",
       "        vertical-align: middle;\n",
       "    }\n",
       "\n",
       "    .dataframe tbody tr th {\n",
       "        vertical-align: top;\n",
       "    }\n",
       "\n",
       "    .dataframe thead th {\n",
       "        text-align: right;\n",
       "    }\n",
       "</style>\n",
       "<table border=\"1\" class=\"dataframe\">\n",
       "  <thead>\n",
       "    <tr style=\"text-align: right;\">\n",
       "      <th></th>\n",
       "      <th>Y</th>\n",
       "      <th>Alcohol</th>\n",
       "      <th>Malic acid</th>\n",
       "      <th>Ash</th>\n",
       "      <th>Alcalinity of ash</th>\n",
       "      <th>Magnesium</th>\n",
       "      <th>Total phenols</th>\n",
       "      <th>Flavanoids</th>\n",
       "      <th>Nonflavanoid phenols</th>\n",
       "      <th>Proanthocyanins</th>\n",
       "      <th>Color intensity</th>\n",
       "      <th>Hue</th>\n",
       "      <th>OD280/OD315 of diluted wines\\t</th>\n",
       "      <th>Proline</th>\n",
       "    </tr>\n",
       "  </thead>\n",
       "  <tbody>\n",
       "    <tr>\n",
       "      <th>0</th>\n",
       "      <td>1</td>\n",
       "      <td>14.23</td>\n",
       "      <td>1.71</td>\n",
       "      <td>2.43</td>\n",
       "      <td>15.6</td>\n",
       "      <td>127</td>\n",
       "      <td>2.80</td>\n",
       "      <td>3.06</td>\n",
       "      <td>0.28</td>\n",
       "      <td>2.29</td>\n",
       "      <td>5.64</td>\n",
       "      <td>1.04</td>\n",
       "      <td>3.92</td>\n",
       "      <td>1065</td>\n",
       "    </tr>\n",
       "    <tr>\n",
       "      <th>1</th>\n",
       "      <td>1</td>\n",
       "      <td>13.20</td>\n",
       "      <td>1.78</td>\n",
       "      <td>2.14</td>\n",
       "      <td>11.2</td>\n",
       "      <td>100</td>\n",
       "      <td>2.65</td>\n",
       "      <td>2.76</td>\n",
       "      <td>0.26</td>\n",
       "      <td>1.28</td>\n",
       "      <td>4.38</td>\n",
       "      <td>1.05</td>\n",
       "      <td>3.40</td>\n",
       "      <td>1050</td>\n",
       "    </tr>\n",
       "    <tr>\n",
       "      <th>2</th>\n",
       "      <td>1</td>\n",
       "      <td>13.16</td>\n",
       "      <td>2.36</td>\n",
       "      <td>2.67</td>\n",
       "      <td>18.6</td>\n",
       "      <td>101</td>\n",
       "      <td>2.80</td>\n",
       "      <td>3.24</td>\n",
       "      <td>0.30</td>\n",
       "      <td>2.81</td>\n",
       "      <td>5.68</td>\n",
       "      <td>1.03</td>\n",
       "      <td>3.17</td>\n",
       "      <td>1185</td>\n",
       "    </tr>\n",
       "    <tr>\n",
       "      <th>3</th>\n",
       "      <td>1</td>\n",
       "      <td>14.37</td>\n",
       "      <td>1.95</td>\n",
       "      <td>2.50</td>\n",
       "      <td>16.8</td>\n",
       "      <td>113</td>\n",
       "      <td>3.85</td>\n",
       "      <td>3.49</td>\n",
       "      <td>0.24</td>\n",
       "      <td>2.18</td>\n",
       "      <td>7.80</td>\n",
       "      <td>0.86</td>\n",
       "      <td>3.45</td>\n",
       "      <td>1480</td>\n",
       "    </tr>\n",
       "    <tr>\n",
       "      <th>4</th>\n",
       "      <td>1</td>\n",
       "      <td>13.24</td>\n",
       "      <td>2.59</td>\n",
       "      <td>2.87</td>\n",
       "      <td>21.0</td>\n",
       "      <td>118</td>\n",
       "      <td>2.80</td>\n",
       "      <td>2.69</td>\n",
       "      <td>0.39</td>\n",
       "      <td>1.82</td>\n",
       "      <td>4.32</td>\n",
       "      <td>1.04</td>\n",
       "      <td>2.93</td>\n",
       "      <td>735</td>\n",
       "    </tr>\n",
       "  </tbody>\n",
       "</table>\n",
       "</div>"
      ],
      "text/plain": [
       "   Y  Alcohol  Malic acid   Ash  Alcalinity of ash  Magnesium  Total phenols  \\\n",
       "0  1    14.23        1.71  2.43               15.6        127           2.80   \n",
       "1  1    13.20        1.78  2.14               11.2        100           2.65   \n",
       "2  1    13.16        2.36  2.67               18.6        101           2.80   \n",
       "3  1    14.37        1.95  2.50               16.8        113           3.85   \n",
       "4  1    13.24        2.59  2.87               21.0        118           2.80   \n",
       "\n",
       "   Flavanoids  Nonflavanoid phenols  Proanthocyanins  Color intensity   Hue  \\\n",
       "0        3.06                  0.28             2.29             5.64  1.04   \n",
       "1        2.76                  0.26             1.28             4.38  1.05   \n",
       "2        3.24                  0.30             2.81             5.68  1.03   \n",
       "3        3.49                  0.24             2.18             7.80  0.86   \n",
       "4        2.69                  0.39             1.82             4.32  1.04   \n",
       "\n",
       "   OD280/OD315 of diluted wines\\t  Proline  \n",
       "0                            3.92     1065  \n",
       "1                            3.40     1050  \n",
       "2                            3.17     1185  \n",
       "3                            3.45     1480  \n",
       "4                            2.93      735  "
      ]
     },
     "execution_count": 70,
     "metadata": {},
     "output_type": "execute_result"
    }
   ],
   "source": [
    "import pandas as pd\n",
    "import numpy as np\n",
    "data=pd.read_csv('wine_data.csv')\n",
    "data.head(5)"
   ]
  },
  {
   "cell_type": "code",
   "execution_count": 71,
   "metadata": {
    "colab": {
     "base_uri": "https://localhost:8080/"
    },
    "executionInfo": {
     "elapsed": 304,
     "status": "ok",
     "timestamp": 1643180081629,
     "user": {
      "displayName": "nattipon itponjaroen",
      "photoUrl": "https://lh3.googleusercontent.com/a-/AOh14GijerWfRW-l0FArC5Lor3SKFFNwnAxa1--Kz4XZ=s64",
      "userId": "05537445625009933944"
     },
     "user_tz": -420
    },
    "id": "oE1b0x7UBDnP",
    "outputId": "b3746dc8-ceea-4205-b38a-1438b7310408"
   },
   "outputs": [
    {
     "name": "stderr",
     "output_type": "stream",
     "text": [
      "C:\\Users\\khwan\\AppData\\Local\\Temp/ipykernel_12328/2118091226.py:2: FutureWarning: In a future version of pandas all arguments of DataFrame.drop except for the argument 'labels' will be keyword-only\n",
      "  x=data.drop('Y',1)\n"
     ]
    }
   ],
   "source": [
    "y=data.Y\n",
    "x=data.drop('Y',1)\n",
    "#print(x.head(5))\n",
    "#print(y.head(5))"
   ]
  },
  {
   "cell_type": "code",
   "execution_count": 72,
   "metadata": {
    "colab": {
     "base_uri": "https://localhost:8080/"
    },
    "executionInfo": {
     "elapsed": 311,
     "status": "ok",
     "timestamp": 1643180103494,
     "user": {
      "displayName": "nattipon itponjaroen",
      "photoUrl": "https://lh3.googleusercontent.com/a-/AOh14GijerWfRW-l0FArC5Lor3SKFFNwnAxa1--Kz4XZ=s64",
      "userId": "05537445625009933944"
     },
     "user_tz": -420
    },
    "id": "xFksWUAYBF5R",
    "outputId": "e2188088-96ed-4bfc-f4a9-fe939d99a0fa"
   },
   "outputs": [
    {
     "data": {
      "text/plain": [
       "pandas.core.frame.DataFrame"
      ]
     },
     "execution_count": 72,
     "metadata": {},
     "output_type": "execute_result"
    }
   ],
   "source": [
    "from sklearn.model_selection import train_test_split\n",
    "x_train,x_test,y_train,y_test= train_test_split(x,y,random_state=0)\n",
    "type(x_train)"
   ]
  },
  {
   "cell_type": "code",
   "execution_count": 73,
   "metadata": {},
   "outputs": [
    {
     "name": "stdout",
     "output_type": "stream",
     "text": [
      "(133, 13)\n",
      "(45, 13)\n"
     ]
    }
   ],
   "source": [
    "print(x_train.shape)\n",
    "print(x_test.shape)"
   ]
  },
  {
   "cell_type": "code",
   "execution_count": 74,
   "metadata": {
    "colab": {
     "base_uri": "https://localhost:8080/"
    },
    "executionInfo": {
     "elapsed": 313,
     "status": "ok",
     "timestamp": 1643180118358,
     "user": {
      "displayName": "nattipon itponjaroen",
      "photoUrl": "https://lh3.googleusercontent.com/a-/AOh14GijerWfRW-l0FArC5Lor3SKFFNwnAxa1--Kz4XZ=s64",
      "userId": "05537445625009933944"
     },
     "user_tz": -420
    },
    "id": "tutmYKLUJ-rU",
    "outputId": "8245ad7e-a6ff-454f-c597-7a3ef59215cf"
   },
   "outputs": [
    {
     "data": {
      "text/plain": [
       "pandas.core.series.Series"
      ]
     },
     "execution_count": 74,
     "metadata": {},
     "output_type": "execute_result"
    }
   ],
   "source": [
    "from sklearn.preprocessing import StandardScaler\n",
    "Scaler_X = StandardScaler()\n",
    "x_train = Scaler_X.fit_transform(x_train)\n",
    "x_test = Scaler_X.transform(x_test)\n",
    "type(x_train)\n",
    "type(y_train)"
   ]
  },
  {
   "cell_type": "code",
   "execution_count": 75,
   "metadata": {
    "colab": {
     "base_uri": "https://localhost:8080/"
    },
    "executionInfo": {
     "elapsed": 519,
     "status": "ok",
     "timestamp": 1643180140833,
     "user": {
      "displayName": "nattipon itponjaroen",
      "photoUrl": "https://lh3.googleusercontent.com/a-/AOh14GijerWfRW-l0FArC5Lor3SKFFNwnAxa1--Kz4XZ=s64",
      "userId": "05537445625009933944"
     },
     "user_tz": -420
    },
    "id": "t3bnLhlOBWnq",
    "outputId": "55605d8e-1b8b-438c-98a3-032ca0058b1e"
   },
   "outputs": [
    {
     "data": {
      "text/plain": [
       "pandas.core.series.Series"
      ]
     },
     "execution_count": 75,
     "metadata": {},
     "output_type": "execute_result"
    }
   ],
   "source": [
    "#x_train = x_train.to_numpy()\n",
    "#y_train = y_train.to_numpy()\n",
    "x_train=x_train.astype(np.float32)\n",
    "#y_train=y_train.astype(int)\n",
    "input_dim=13\n",
    "output_dim=4\n",
    "type(y_train)"
   ]
  },
  {
   "cell_type": "code",
   "execution_count": 76,
   "metadata": {
    "colab": {
     "base_uri": "https://localhost:8080/"
    },
    "executionInfo": {
     "elapsed": 3200,
     "status": "ok",
     "timestamp": 1643180155942,
     "user": {
      "displayName": "nattipon itponjaroen",
      "photoUrl": "https://lh3.googleusercontent.com/a-/AOh14GijerWfRW-l0FArC5Lor3SKFFNwnAxa1--Kz4XZ=s64",
      "userId": "05537445625009933944"
     },
     "user_tz": -420
    },
    "id": "7f2jirInB48V",
    "outputId": "10df92f4-06a5-4c81-fe1f-93e3fa0a3a4b"
   },
   "outputs": [
    {
     "name": "stdout",
     "output_type": "stream",
     "text": [
      "Python3.8.10 (tags/v3.8.10:3d8993a, May  3 2021, 11:48:03) [MSC v.1928 64 bit (AMD64)]\n",
      "\n"
     ]
    }
   ],
   "source": [
    "import sys\n",
    "print(f\"Python{sys.version}\\n\")\n",
    "import numpy as np\n",
    "import matplotlib.pyplot as plt\n",
    "import tensorflow as tf "
   ]
  },
  {
   "cell_type": "code",
   "execution_count": 77,
   "metadata": {
    "colab": {
     "base_uri": "https://localhost:8080/"
    },
    "executionInfo": {
     "elapsed": 298,
     "status": "ok",
     "timestamp": 1643180158435,
     "user": {
      "displayName": "nattipon itponjaroen",
      "photoUrl": "https://lh3.googleusercontent.com/a-/AOh14GijerWfRW-l0FArC5Lor3SKFFNwnAxa1--Kz4XZ=s64",
      "userId": "05537445625009933944"
     },
     "user_tz": -420
    },
    "id": "dh3VRqLyBaWX",
    "outputId": "091e63a5-065f-4089-e594-f515011faad2"
   },
   "outputs": [
    {
     "name": "stdout",
     "output_type": "stream",
     "text": [
      "Model: \"sequential_3\"\n",
      "_________________________________________________________________\n",
      " Layer (type)                Output Shape              Param #   \n",
      "=================================================================\n",
      " Hidden1 (Dense)             (None, 20)                280       \n",
      "                                                                 \n",
      " BN1 (BatchNormalization)    (None, 20)                80        \n",
      "                                                                 \n",
      " Hidden2 (Dense)             (None, 20)                420       \n",
      "                                                                 \n",
      " BN2 (BatchNormalization)    (None, 20)                80        \n",
      "                                                                 \n",
      " Hidden3 (Dense)             (None, 20)                420       \n",
      "                                                                 \n",
      " BN3 (BatchNormalization)    (None, 20)                80        \n",
      "                                                                 \n",
      " dropout_3 (Dropout)         (None, 20)                0         \n",
      "                                                                 \n",
      " output (Dense)              (None, 4)                 84        \n",
      "                                                                 \n",
      "=================================================================\n",
      "Total params: 1,444\n",
      "Trainable params: 1,324\n",
      "Non-trainable params: 120\n",
      "_________________________________________________________________\n"
     ]
    }
   ],
   "source": [
    "model=tf.keras.models.Sequential()\n",
    "#input layer\n",
    "model.add(tf.keras.Input(shape=(input_dim)))\n",
    "\n",
    "#hidden layer\n",
    "model.add(tf.keras.layers.Dense(20,activation='relu',name='Hidden1'))\n",
    "model.add(tf.keras.layers.BatchNormalization(axis=-1,name='BN1'))\n",
    "model.add(tf.keras.layers.Dense(20,activation='relu',name='Hidden2'))\n",
    "model.add(tf.keras.layers.BatchNormalization(axis=-1,name='BN2'))\n",
    "model.add(tf.keras.layers.Dense(20,activation='relu',name='Hidden3'))\n",
    "model.add(tf.keras.layers.BatchNormalization(axis=-1,name='BN3'))\n",
    "model.add(tf.keras.layers.Dropout(0.4))\n",
    "\n",
    "#output layer\n",
    "model.add(tf.keras.layers.Dense(output_dim,activation='softmax',name='output'))\n",
    "\n",
    "model.summary()"
   ]
  },
  {
   "cell_type": "code",
   "execution_count": 78,
   "metadata": {
    "executionInfo": {
     "elapsed": 306,
     "status": "ok",
     "timestamp": 1643180162907,
     "user": {
      "displayName": "nattipon itponjaroen",
      "photoUrl": "https://lh3.googleusercontent.com/a-/AOh14GijerWfRW-l0FArC5Lor3SKFFNwnAxa1--Kz4XZ=s64",
      "userId": "05537445625009933944"
     },
     "user_tz": -420
    },
    "id": "Jje6se-hBbsa"
   },
   "outputs": [],
   "source": [
    "model.compile(optimizer='adam',loss='sparse_categorical_crossentropy',metrics=['acc'])\n"
   ]
  },
  {
   "cell_type": "code",
   "execution_count": 79,
   "metadata": {
    "colab": {
     "base_uri": "https://localhost:8080/",
     "height": 191
    },
    "executionInfo": {
     "elapsed": 302,
     "status": "ok",
     "timestamp": 1643180753869,
     "user": {
      "displayName": "nattipon itponjaroen",
      "photoUrl": "https://lh3.googleusercontent.com/a-/AOh14GijerWfRW-l0FArC5Lor3SKFFNwnAxa1--Kz4XZ=s64",
      "userId": "05537445625009933944"
     },
     "user_tz": -420
    },
    "id": "N2v4j-ejMhHu",
    "outputId": "1d7ee9db-a39d-4a41-ff78-fb59a0c2d468"
   },
   "outputs": [
    {
     "data": {
      "text/plain": [
       "19     1\n",
       "135    3\n",
       "74     2\n",
       "144    3\n",
       "16     1\n",
       "      ..\n",
       "103    2\n",
       "67     2\n",
       "117    2\n",
       "47     1\n",
       "172    3\n",
       "Name: Y, Length: 133, dtype: int64"
      ]
     },
     "metadata": {},
     "output_type": "display_data"
    },
    {
     "data": {
      "text/plain": [
       "(133,)"
      ]
     },
     "execution_count": 79,
     "metadata": {},
     "output_type": "execute_result"
    }
   ],
   "source": [
    "display(y_train)\n",
    "np.shape(y_train)"
   ]
  },
  {
   "cell_type": "code",
   "execution_count": 80,
   "metadata": {
    "colab": {
     "base_uri": "https://localhost:8080/",
     "height": 260
    },
    "executionInfo": {
     "elapsed": 300,
     "status": "ok",
     "timestamp": 1643180772624,
     "user": {
      "displayName": "nattipon itponjaroen",
      "photoUrl": "https://lh3.googleusercontent.com/a-/AOh14GijerWfRW-l0FArC5Lor3SKFFNwnAxa1--Kz4XZ=s64",
      "userId": "05537445625009933944"
     },
     "user_tz": -420
    },
    "id": "pr2emjISNKnJ",
    "outputId": "13204ba8-ead2-40ec-92e9-907aa59ed06d"
   },
   "outputs": [
    {
     "data": {
      "text/plain": [
       "array([[ 0.79996866,  0.63400364,  0.71783316, ...,  0.05445565,\n",
       "         1.0713277 ,  0.3150045 ],\n",
       "       [-0.4987598 ,  0.06171955, -0.610727  , ..., -0.9347358 ,\n",
       "        -1.3924971 , -0.18138885],\n",
       "       [-1.2979773 , -1.163326  , -0.24168251, ...,  0.18348062,\n",
       "         0.7529683 ,  0.45068535],\n",
       "       ...,\n",
       "       [-0.72353977, -0.69834524, -0.64763147, ...,  0.48453888,\n",
       "         0.5176592 , -1.33964   ],\n",
       "       [ 1.1246508 , -0.63575166, -0.9059626 , ..., -0.16058595,\n",
       "         1.0298026 ,  0.778305  ],\n",
       "       [ 1.449333  ,  0.10642924,  0.42259756, ..., -1.4078273 ,\n",
       "        -1.2125548 , -0.29721397]], dtype=float32)"
      ]
     },
     "metadata": {},
     "output_type": "display_data"
    },
    {
     "data": {
      "text/plain": [
       "(133, 13)"
      ]
     },
     "execution_count": 80,
     "metadata": {},
     "output_type": "execute_result"
    }
   ],
   "source": [
    "display(x_train)\n",
    "np.shape(x_train)"
   ]
  },
  {
   "cell_type": "code",
   "execution_count": 81,
   "metadata": {},
   "outputs": [],
   "source": [
    "checkpoint_filepath = \"bestmodel_epoch{epoch:02d}_valloss{val_loss:.2f}.hdf5\"\n",
    "model_checkpoint_callback = tf.keras.callbacks.ModelCheckpoint( filepath=checkpoint_filepath,\n",
    "                                                               save_weights_only=True,\n",
    "                                                               monitor='Val_acc',\n",
    "                                                               mode='max',\n",
    "                                                               save_best_only=True)"
   ]
  },
  {
   "cell_type": "code",
   "execution_count": 84,
   "metadata": {},
   "outputs": [
    {
     "name": "stdout",
     "output_type": "stream",
     "text": [
      "Epoch 1/10\n",
      "2/2 [==============================] - 0s 77ms/step - loss: 0.9879 - acc: 0.5472 - val_loss: 1.2512 - val_acc: 0.5185\n",
      "Epoch 2/10\n",
      "2/2 [==============================] - 0s 41ms/step - loss: 0.9388 - acc: 0.5755 - val_loss: 1.2365 - val_acc: 0.5185\n",
      "Epoch 3/10\n",
      "2/2 [==============================] - 0s 85ms/step - loss: 0.9599 - acc: 0.6038 - val_loss: 1.2225 - val_acc: 0.5556\n",
      "Epoch 4/10\n",
      "2/2 [==============================] - 0s 75ms/step - loss: 1.0480 - acc: 0.5660 - val_loss: 1.2099 - val_acc: 0.5556\n",
      "Epoch 5/10\n",
      "2/2 [==============================] - 0s 118ms/step - loss: 0.9821 - acc: 0.5849 - val_loss: 1.1966 - val_acc: 0.6296\n",
      "Epoch 6/10\n",
      "2/2 [==============================] - 0s 73ms/step - loss: 0.8049 - acc: 0.6698 - val_loss: 1.1841 - val_acc: 0.6296\n",
      "Epoch 7/10\n",
      "2/2 [==============================] - 0s 84ms/step - loss: 0.7762 - acc: 0.7264 - val_loss: 1.1718 - val_acc: 0.6296\n",
      "Epoch 8/10\n",
      "2/2 [==============================] - 0s 93ms/step - loss: 0.9647 - acc: 0.6321 - val_loss: 1.1585 - val_acc: 0.6296\n",
      "Epoch 9/10\n",
      "2/2 [==============================] - 0s 165ms/step - loss: 0.8924 - acc: 0.6038 - val_loss: 1.1442 - val_acc: 0.6667\n",
      "Epoch 10/10\n",
      "2/2 [==============================] - 0s 150ms/step - loss: 0.7531 - acc: 0.6981 - val_loss: 1.1327 - val_acc: 0.7407\n"
     ]
    }
   ],
   "source": [
    "history=model.fit(x_train,y_train,batch_size=100,epochs=10,verbose=1,validation_split=0.2,callbacks=[model_checkpoint_callback])"
   ]
  },
  {
   "cell_type": "code",
   "execution_count": null,
   "metadata": {
    "colab": {
     "base_uri": "https://localhost:8080/"
    },
    "executionInfo": {
     "elapsed": 329,
     "status": "ok",
     "timestamp": 1643179159493,
     "user": {
      "displayName": "nattipon itponjaroen",
      "photoUrl": "https://lh3.googleusercontent.com/a-/AOh14GijerWfRW-l0FArC5Lor3SKFFNwnAxa1--Kz4XZ=s64",
      "userId": "05537445625009933944"
     },
     "user_tz": -420
    },
    "id": "bLVBmkLaG_0G",
    "outputId": "027e2811-320b-405e-cd5d-28a8da1f15fe"
   },
   "outputs": [],
   "source": [
    "type(x_train)"
   ]
  },
  {
   "cell_type": "code",
   "execution_count": null,
   "metadata": {},
   "outputs": [],
   "source": []
  }
 ],
 "metadata": {
  "colab": {
   "authorship_tag": "ABX9TyPL/yz/KN9g7RbTlmQd1nA/",
   "name": "HW1_1.ipynb",
   "provenance": []
  },
  "kernelspec": {
   "display_name": "Python 3 (ipykernel)",
   "language": "python",
   "name": "python3"
  },
  "language_info": {
   "codemirror_mode": {
    "name": "ipython",
    "version": 3
   },
   "file_extension": ".py",
   "mimetype": "text/x-python",
   "name": "python",
   "nbconvert_exporter": "python",
   "pygments_lexer": "ipython3",
   "version": "3.8.10"
  }
 },
 "nbformat": 4,
 "nbformat_minor": 1
}
