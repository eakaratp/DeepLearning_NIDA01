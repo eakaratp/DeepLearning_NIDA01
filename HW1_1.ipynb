{
  "cells": [
    {
      "cell_type": "code",
      "execution_count": 1,
      "metadata": {
        "colab": {
          "base_uri": "https://localhost:8080/",
          "height": 267
        },
        "id": "2NLa9R5EBC6M",
        "outputId": "d473ad0c-cc7e-49b1-b401-ab8c3de295fb"
      },
      "outputs": [
        {
          "output_type": "execute_result",
          "data": {
            "text/html": [
              "\n",
              "  <div id=\"df-7f5cf467-3aef-42b6-bee3-f8a485d33c05\">\n",
              "    <div class=\"colab-df-container\">\n",
              "      <div>\n",
              "<style scoped>\n",
              "    .dataframe tbody tr th:only-of-type {\n",
              "        vertical-align: middle;\n",
              "    }\n",
              "\n",
              "    .dataframe tbody tr th {\n",
              "        vertical-align: top;\n",
              "    }\n",
              "\n",
              "    .dataframe thead th {\n",
              "        text-align: right;\n",
              "    }\n",
              "</style>\n",
              "<table border=\"1\" class=\"dataframe\">\n",
              "  <thead>\n",
              "    <tr style=\"text-align: right;\">\n",
              "      <th></th>\n",
              "      <th>Y</th>\n",
              "      <th>Alcohol</th>\n",
              "      <th>Malic acid</th>\n",
              "      <th>Ash</th>\n",
              "      <th>Alcalinity of ash</th>\n",
              "      <th>Magnesium</th>\n",
              "      <th>Total phenols</th>\n",
              "      <th>Flavanoids</th>\n",
              "      <th>Nonflavanoid phenols</th>\n",
              "      <th>Proanthocyanins</th>\n",
              "      <th>Color intensity</th>\n",
              "      <th>Hue</th>\n",
              "      <th>OD280/OD315 of diluted wines\\t</th>\n",
              "      <th>Proline</th>\n",
              "    </tr>\n",
              "  </thead>\n",
              "  <tbody>\n",
              "    <tr>\n",
              "      <th>0</th>\n",
              "      <td>1</td>\n",
              "      <td>14.23</td>\n",
              "      <td>1.71</td>\n",
              "      <td>2.43</td>\n",
              "      <td>15.6</td>\n",
              "      <td>127</td>\n",
              "      <td>2.80</td>\n",
              "      <td>3.06</td>\n",
              "      <td>0.28</td>\n",
              "      <td>2.29</td>\n",
              "      <td>5.64</td>\n",
              "      <td>1.04</td>\n",
              "      <td>3.92</td>\n",
              "      <td>1065</td>\n",
              "    </tr>\n",
              "    <tr>\n",
              "      <th>1</th>\n",
              "      <td>1</td>\n",
              "      <td>13.20</td>\n",
              "      <td>1.78</td>\n",
              "      <td>2.14</td>\n",
              "      <td>11.2</td>\n",
              "      <td>100</td>\n",
              "      <td>2.65</td>\n",
              "      <td>2.76</td>\n",
              "      <td>0.26</td>\n",
              "      <td>1.28</td>\n",
              "      <td>4.38</td>\n",
              "      <td>1.05</td>\n",
              "      <td>3.40</td>\n",
              "      <td>1050</td>\n",
              "    </tr>\n",
              "    <tr>\n",
              "      <th>2</th>\n",
              "      <td>1</td>\n",
              "      <td>13.16</td>\n",
              "      <td>2.36</td>\n",
              "      <td>2.67</td>\n",
              "      <td>18.6</td>\n",
              "      <td>101</td>\n",
              "      <td>2.80</td>\n",
              "      <td>3.24</td>\n",
              "      <td>0.30</td>\n",
              "      <td>2.81</td>\n",
              "      <td>5.68</td>\n",
              "      <td>1.03</td>\n",
              "      <td>3.17</td>\n",
              "      <td>1185</td>\n",
              "    </tr>\n",
              "    <tr>\n",
              "      <th>3</th>\n",
              "      <td>1</td>\n",
              "      <td>14.37</td>\n",
              "      <td>1.95</td>\n",
              "      <td>2.50</td>\n",
              "      <td>16.8</td>\n",
              "      <td>113</td>\n",
              "      <td>3.85</td>\n",
              "      <td>3.49</td>\n",
              "      <td>0.24</td>\n",
              "      <td>2.18</td>\n",
              "      <td>7.80</td>\n",
              "      <td>0.86</td>\n",
              "      <td>3.45</td>\n",
              "      <td>1480</td>\n",
              "    </tr>\n",
              "    <tr>\n",
              "      <th>4</th>\n",
              "      <td>1</td>\n",
              "      <td>13.24</td>\n",
              "      <td>2.59</td>\n",
              "      <td>2.87</td>\n",
              "      <td>21.0</td>\n",
              "      <td>118</td>\n",
              "      <td>2.80</td>\n",
              "      <td>2.69</td>\n",
              "      <td>0.39</td>\n",
              "      <td>1.82</td>\n",
              "      <td>4.32</td>\n",
              "      <td>1.04</td>\n",
              "      <td>2.93</td>\n",
              "      <td>735</td>\n",
              "    </tr>\n",
              "  </tbody>\n",
              "</table>\n",
              "</div>\n",
              "      <button class=\"colab-df-convert\" onclick=\"convertToInteractive('df-7f5cf467-3aef-42b6-bee3-f8a485d33c05')\"\n",
              "              title=\"Convert this dataframe to an interactive table.\"\n",
              "              style=\"display:none;\">\n",
              "        \n",
              "  <svg xmlns=\"http://www.w3.org/2000/svg\" height=\"24px\"viewBox=\"0 0 24 24\"\n",
              "       width=\"24px\">\n",
              "    <path d=\"M0 0h24v24H0V0z\" fill=\"none\"/>\n",
              "    <path d=\"M18.56 5.44l.94 2.06.94-2.06 2.06-.94-2.06-.94-.94-2.06-.94 2.06-2.06.94zm-11 1L8.5 8.5l.94-2.06 2.06-.94-2.06-.94L8.5 2.5l-.94 2.06-2.06.94zm10 10l.94 2.06.94-2.06 2.06-.94-2.06-.94-.94-2.06-.94 2.06-2.06.94z\"/><path d=\"M17.41 7.96l-1.37-1.37c-.4-.4-.92-.59-1.43-.59-.52 0-1.04.2-1.43.59L10.3 9.45l-7.72 7.72c-.78.78-.78 2.05 0 2.83L4 21.41c.39.39.9.59 1.41.59.51 0 1.02-.2 1.41-.59l7.78-7.78 2.81-2.81c.8-.78.8-2.07 0-2.86zM5.41 20L4 18.59l7.72-7.72 1.47 1.35L5.41 20z\"/>\n",
              "  </svg>\n",
              "      </button>\n",
              "      \n",
              "  <style>\n",
              "    .colab-df-container {\n",
              "      display:flex;\n",
              "      flex-wrap:wrap;\n",
              "      gap: 12px;\n",
              "    }\n",
              "\n",
              "    .colab-df-convert {\n",
              "      background-color: #E8F0FE;\n",
              "      border: none;\n",
              "      border-radius: 50%;\n",
              "      cursor: pointer;\n",
              "      display: none;\n",
              "      fill: #1967D2;\n",
              "      height: 32px;\n",
              "      padding: 0 0 0 0;\n",
              "      width: 32px;\n",
              "    }\n",
              "\n",
              "    .colab-df-convert:hover {\n",
              "      background-color: #E2EBFA;\n",
              "      box-shadow: 0px 1px 2px rgba(60, 64, 67, 0.3), 0px 1px 3px 1px rgba(60, 64, 67, 0.15);\n",
              "      fill: #174EA6;\n",
              "    }\n",
              "\n",
              "    [theme=dark] .colab-df-convert {\n",
              "      background-color: #3B4455;\n",
              "      fill: #D2E3FC;\n",
              "    }\n",
              "\n",
              "    [theme=dark] .colab-df-convert:hover {\n",
              "      background-color: #434B5C;\n",
              "      box-shadow: 0px 1px 3px 1px rgba(0, 0, 0, 0.15);\n",
              "      filter: drop-shadow(0px 1px 2px rgba(0, 0, 0, 0.3));\n",
              "      fill: #FFFFFF;\n",
              "    }\n",
              "  </style>\n",
              "\n",
              "      <script>\n",
              "        const buttonEl =\n",
              "          document.querySelector('#df-7f5cf467-3aef-42b6-bee3-f8a485d33c05 button.colab-df-convert');\n",
              "        buttonEl.style.display =\n",
              "          google.colab.kernel.accessAllowed ? 'block' : 'none';\n",
              "\n",
              "        async function convertToInteractive(key) {\n",
              "          const element = document.querySelector('#df-7f5cf467-3aef-42b6-bee3-f8a485d33c05');\n",
              "          const dataTable =\n",
              "            await google.colab.kernel.invokeFunction('convertToInteractive',\n",
              "                                                     [key], {});\n",
              "          if (!dataTable) return;\n",
              "\n",
              "          const docLinkHtml = 'Like what you see? Visit the ' +\n",
              "            '<a target=\"_blank\" href=https://colab.research.google.com/notebooks/data_table.ipynb>data table notebook</a>'\n",
              "            + ' to learn more about interactive tables.';\n",
              "          element.innerHTML = '';\n",
              "          dataTable['output_type'] = 'display_data';\n",
              "          await google.colab.output.renderOutput(dataTable, element);\n",
              "          const docLink = document.createElement('div');\n",
              "          docLink.innerHTML = docLinkHtml;\n",
              "          element.appendChild(docLink);\n",
              "        }\n",
              "      </script>\n",
              "    </div>\n",
              "  </div>\n",
              "  "
            ],
            "text/plain": [
              "   Y  Alcohol  Malic acid  ...   Hue  OD280/OD315 of diluted wines\\t  Proline\n",
              "0  1    14.23        1.71  ...  1.04                            3.92     1065\n",
              "1  1    13.20        1.78  ...  1.05                            3.40     1050\n",
              "2  1    13.16        2.36  ...  1.03                            3.17     1185\n",
              "3  1    14.37        1.95  ...  0.86                            3.45     1480\n",
              "4  1    13.24        2.59  ...  1.04                            2.93      735\n",
              "\n",
              "[5 rows x 14 columns]"
            ]
          },
          "metadata": {},
          "execution_count": 1
        }
      ],
      "source": [
        "import pandas as pd\n",
        "import numpy as np\n",
        "url ='https://raw.githubusercontent.com/khwanck/DeepLearning_NIDA01/main/winedata.csv'\n",
        "data=pd.read_csv(url,)\n",
        "data.head(5)"
      ]
    },
    {
      "cell_type": "code",
      "execution_count": 2,
      "metadata": {
        "id": "oE1b0x7UBDnP"
      },
      "outputs": [],
      "source": [
        "y=data.Y\n",
        "x=data.drop('Y',1)\n",
        "#print(x.head(5))\n",
        "#print(y.head(5))"
      ]
    },
    {
      "cell_type": "code",
      "execution_count": 3,
      "metadata": {
        "colab": {
          "base_uri": "https://localhost:8080/"
        },
        "id": "xFksWUAYBF5R",
        "outputId": "fbf0addf-433b-4de7-cd05-a4c5284a3130"
      },
      "outputs": [
        {
          "output_type": "execute_result",
          "data": {
            "text/plain": [
              "pandas.core.frame.DataFrame"
            ]
          },
          "metadata": {},
          "execution_count": 3
        }
      ],
      "source": [
        "from sklearn.model_selection import train_test_split\n",
        "x_train,x_test,y_train,y_test= train_test_split(x,y,random_state=0)\n",
        "type(x_train)"
      ]
    },
    {
      "cell_type": "code",
      "execution_count": 4,
      "metadata": {
        "id": "MjFKsu8Ab4XK",
        "outputId": "d71900a6-ab43-4a6b-cbe0-9305c35e2563",
        "colab": {
          "base_uri": "https://localhost:8080/"
        }
      },
      "outputs": [
        {
          "output_type": "stream",
          "name": "stdout",
          "text": [
            "(133, 13)\n",
            "(45, 13)\n"
          ]
        }
      ],
      "source": [
        "print(x_train.shape)\n",
        "print(x_test.shape)"
      ]
    },
    {
      "cell_type": "code",
      "execution_count": 5,
      "metadata": {
        "colab": {
          "base_uri": "https://localhost:8080/"
        },
        "id": "tutmYKLUJ-rU",
        "outputId": "87837935-c98e-4cb5-c25a-645c5088c2da"
      },
      "outputs": [
        {
          "output_type": "execute_result",
          "data": {
            "text/plain": [
              "pandas.core.series.Series"
            ]
          },
          "metadata": {},
          "execution_count": 5
        }
      ],
      "source": [
        "from sklearn.preprocessing import StandardScaler\n",
        "Scaler_X = StandardScaler()\n",
        "x_train = Scaler_X.fit_transform(x_train)\n",
        "x_test = Scaler_X.transform(x_test)\n",
        "type(x_train)\n",
        "type(y_train)"
      ]
    },
    {
      "cell_type": "code",
      "execution_count": 6,
      "metadata": {
        "colab": {
          "base_uri": "https://localhost:8080/"
        },
        "id": "t3bnLhlOBWnq",
        "outputId": "4118752d-e68c-4776-8f0b-931b00f12b91"
      },
      "outputs": [
        {
          "output_type": "execute_result",
          "data": {
            "text/plain": [
              "pandas.core.series.Series"
            ]
          },
          "metadata": {},
          "execution_count": 6
        }
      ],
      "source": [
        "#x_train = x_train.to_numpy()\n",
        "#y_train = y_train.to_numpy()\n",
        "x_train=x_train.astype(np.float32)\n",
        "#y_train=y_train.astype(int)\n",
        "input_dim=13\n",
        "output_dim=4\n",
        "type(y_train)"
      ]
    },
    {
      "cell_type": "code",
      "execution_count": 7,
      "metadata": {
        "colab": {
          "base_uri": "https://localhost:8080/"
        },
        "id": "7f2jirInB48V",
        "outputId": "7bdd5f85-f410-4fd4-84b5-1d14abfead5d"
      },
      "outputs": [
        {
          "output_type": "stream",
          "name": "stdout",
          "text": [
            "Python3.7.12 (default, Sep 10 2021, 00:21:48) \n",
            "[GCC 7.5.0]\n",
            "\n"
          ]
        }
      ],
      "source": [
        "import sys\n",
        "print(f\"Python{sys.version}\\n\")\n",
        "import numpy as np\n",
        "import matplotlib.pyplot as plt\n",
        "import tensorflow as tf "
      ]
    },
    {
      "cell_type": "code",
      "execution_count": 8,
      "metadata": {
        "colab": {
          "base_uri": "https://localhost:8080/"
        },
        "id": "dh3VRqLyBaWX",
        "outputId": "f3c3918c-5256-4fb4-b3a9-b74fdaf091fa"
      },
      "outputs": [
        {
          "output_type": "stream",
          "name": "stdout",
          "text": [
            "Model: \"sequential\"\n",
            "_________________________________________________________________\n",
            " Layer (type)                Output Shape              Param #   \n",
            "=================================================================\n",
            " Hidden1 (Dense)             (None, 20)                280       \n",
            "                                                                 \n",
            " BN1 (BatchNormalization)    (None, 20)                80        \n",
            "                                                                 \n",
            " Hidden2 (Dense)             (None, 20)                420       \n",
            "                                                                 \n",
            " BN2 (BatchNormalization)    (None, 20)                80        \n",
            "                                                                 \n",
            " Hidden3 (Dense)             (None, 20)                420       \n",
            "                                                                 \n",
            " BN3 (BatchNormalization)    (None, 20)                80        \n",
            "                                                                 \n",
            " dropout (Dropout)           (None, 20)                0         \n",
            "                                                                 \n",
            " output (Dense)              (None, 4)                 84        \n",
            "                                                                 \n",
            "=================================================================\n",
            "Total params: 1,444\n",
            "Trainable params: 1,324\n",
            "Non-trainable params: 120\n",
            "_________________________________________________________________\n"
          ]
        }
      ],
      "source": [
        "model=tf.keras.models.Sequential()\n",
        "#input layer\n",
        "model.add(tf.keras.Input(shape=(input_dim)))\n",
        "\n",
        "#hidden layer\n",
        "model.add(tf.keras.layers.Dense(20,activation='relu',name='Hidden1'))\n",
        "model.add(tf.keras.layers.BatchNormalization(axis=-1,name='BN1'))\n",
        "model.add(tf.keras.layers.Dense(20,activation='relu',name='Hidden2'))\n",
        "model.add(tf.keras.layers.BatchNormalization(axis=-1,name='BN2'))\n",
        "model.add(tf.keras.layers.Dense(20,activation='relu',name='Hidden3'))\n",
        "model.add(tf.keras.layers.BatchNormalization(axis=-1,name='BN3'))\n",
        "model.add(tf.keras.layers.Dropout(0.4))\n",
        "\n",
        "#output layer\n",
        "model.add(tf.keras.layers.Dense(output_dim,activation='softmax',name='output'))\n",
        "\n",
        "model.summary()"
      ]
    },
    {
      "cell_type": "code",
      "execution_count": 9,
      "metadata": {
        "id": "Jje6se-hBbsa"
      },
      "outputs": [],
      "source": [
        "model.compile(optimizer='adam',loss='sparse_categorical_crossentropy',metrics=['acc'])\n"
      ]
    },
    {
      "cell_type": "code",
      "execution_count": 10,
      "metadata": {
        "colab": {
          "base_uri": "https://localhost:8080/",
          "height": 242
        },
        "id": "N2v4j-ejMhHu",
        "outputId": "3b71209e-d2b8-4ab9-d199-c6f7bbe10b04"
      },
      "outputs": [
        {
          "output_type": "display_data",
          "data": {
            "text/plain": [
              "19     1\n",
              "135    3\n",
              "74     2\n",
              "144    3\n",
              "16     1\n",
              "      ..\n",
              "103    2\n",
              "67     2\n",
              "117    2\n",
              "47     1\n",
              "172    3\n",
              "Name: Y, Length: 133, dtype: int64"
            ]
          },
          "metadata": {}
        },
        {
          "output_type": "execute_result",
          "data": {
            "text/plain": [
              "(133,)"
            ]
          },
          "metadata": {},
          "execution_count": 10
        }
      ],
      "source": [
        "display(y_train)\n",
        "np.shape(y_train)"
      ]
    },
    {
      "cell_type": "code",
      "execution_count": 11,
      "metadata": {
        "colab": {
          "base_uri": "https://localhost:8080/",
          "height": 260
        },
        "id": "pr2emjISNKnJ",
        "outputId": "32704289-0c74-49a7-d25a-40b8e4a715dc"
      },
      "outputs": [
        {
          "output_type": "display_data",
          "data": {
            "text/plain": [
              "array([[ 0.79996866,  0.63400364,  0.71783316, ...,  0.05445565,\n",
              "         1.0713277 ,  0.3150045 ],\n",
              "       [-0.4987598 ,  0.06171955, -0.610727  , ..., -0.9347358 ,\n",
              "        -1.3924971 , -0.18138885],\n",
              "       [-1.2979773 , -1.163326  , -0.24168251, ...,  0.18348062,\n",
              "         0.7529683 ,  0.45068535],\n",
              "       ...,\n",
              "       [-0.72353977, -0.69834524, -0.64763147, ...,  0.48453888,\n",
              "         0.5176592 , -1.33964   ],\n",
              "       [ 1.1246508 , -0.63575166, -0.9059626 , ..., -0.16058595,\n",
              "         1.0298026 ,  0.778305  ],\n",
              "       [ 1.449333  ,  0.10642924,  0.42259756, ..., -1.4078273 ,\n",
              "        -1.2125548 , -0.29721397]], dtype=float32)"
            ]
          },
          "metadata": {}
        },
        {
          "output_type": "execute_result",
          "data": {
            "text/plain": [
              "(133, 13)"
            ]
          },
          "metadata": {},
          "execution_count": 11
        }
      ],
      "source": [
        "display(x_train)\n",
        "np.shape(x_train)"
      ]
    },
    {
      "cell_type": "code",
      "execution_count": 12,
      "metadata": {
        "id": "ymogObLDb4XT"
      },
      "outputs": [],
      "source": [
        "checkpoint_filepath = \"bestmodel_epoch{epoch:02d}_valloss{val_loss:.2f}.hdf5\"\n",
        "model_checkpoint_callback = tf.keras.callbacks.ModelCheckpoint( filepath=checkpoint_filepath,\n",
        "                                                               save_weights_only=True,\n",
        "                                                               monitor='Val_acc',\n",
        "                                                               mode='max',\n",
        "                                                               save_best_only=True)"
      ]
    },
    {
      "cell_type": "code",
      "execution_count": 13,
      "metadata": {
        "id": "r3xQYPC7b4XU",
        "outputId": "88822013-c499-40c7-9d71-0930eb60ef3f",
        "colab": {
          "base_uri": "https://localhost:8080/"
        }
      },
      "outputs": [
        {
          "output_type": "stream",
          "name": "stdout",
          "text": [
            "Epoch 1/10\n",
            "1/2 [==============>...............] - ETA: 4s - loss: 1.3112 - acc: 0.3600WARNING:tensorflow:Can save best model only with Val_acc available, skipping.\n",
            "2/2 [==============================] - 5s 735ms/step - loss: 1.3282 - acc: 0.3679 - val_loss: 1.1956 - val_acc: 0.4815\n",
            "Epoch 2/10\n",
            "1/2 [==============>...............] - ETA: 0s - loss: 1.2636 - acc: 0.4800WARNING:tensorflow:Can save best model only with Val_acc available, skipping.\n",
            "2/2 [==============================] - 0s 70ms/step - loss: 1.2984 - acc: 0.4811 - val_loss: 1.1867 - val_acc: 0.5185\n",
            "Epoch 3/10\n",
            "1/2 [==============>...............] - ETA: 0s - loss: 1.4575 - acc: 0.4300WARNING:tensorflow:Can save best model only with Val_acc available, skipping.\n",
            "2/2 [==============================] - 0s 81ms/step - loss: 1.4495 - acc: 0.4340 - val_loss: 1.1793 - val_acc: 0.5556\n",
            "Epoch 4/10\n",
            "1/2 [==============>...............] - ETA: 0s - loss: 1.4103 - acc: 0.3900WARNING:tensorflow:Can save best model only with Val_acc available, skipping.\n",
            "2/2 [==============================] - 0s 55ms/step - loss: 1.4262 - acc: 0.3962 - val_loss: 1.1733 - val_acc: 0.5556\n",
            "Epoch 5/10\n",
            "1/2 [==============>...............] - ETA: 0s - loss: 1.3137 - acc: 0.4400WARNING:tensorflow:Can save best model only with Val_acc available, skipping.\n",
            "2/2 [==============================] - 0s 98ms/step - loss: 1.3546 - acc: 0.4434 - val_loss: 1.1673 - val_acc: 0.5556\n",
            "Epoch 6/10\n",
            "1/2 [==============>...............] - ETA: 0s - loss: 1.3592 - acc: 0.4200WARNING:tensorflow:Can save best model only with Val_acc available, skipping.\n",
            "2/2 [==============================] - 0s 120ms/step - loss: 1.3698 - acc: 0.4245 - val_loss: 1.1625 - val_acc: 0.5926\n",
            "Epoch 7/10\n",
            "1/2 [==============>...............] - ETA: 0s - loss: 1.2004 - acc: 0.5900WARNING:tensorflow:Can save best model only with Val_acc available, skipping.\n",
            "2/2 [==============================] - 0s 88ms/step - loss: 1.2455 - acc: 0.5849 - val_loss: 1.1560 - val_acc: 0.5926\n",
            "Epoch 8/10\n",
            "1/2 [==============>...............] - ETA: 0s - loss: 1.2947 - acc: 0.5200WARNING:tensorflow:Can save best model only with Val_acc available, skipping.\n",
            "2/2 [==============================] - 0s 157ms/step - loss: 1.2481 - acc: 0.5472 - val_loss: 1.1497 - val_acc: 0.5926\n",
            "Epoch 9/10\n",
            "1/2 [==============>...............] - ETA: 0s - loss: 1.2395 - acc: 0.5000WARNING:tensorflow:Can save best model only with Val_acc available, skipping.\n",
            "2/2 [==============================] - 0s 113ms/step - loss: 1.2247 - acc: 0.5094 - val_loss: 1.1439 - val_acc: 0.5926\n",
            "Epoch 10/10\n",
            "1/2 [==============>...............] - ETA: 0s - loss: 1.1713 - acc: 0.5500WARNING:tensorflow:Can save best model only with Val_acc available, skipping.\n",
            "2/2 [==============================] - 0s 79ms/step - loss: 1.1730 - acc: 0.5472 - val_loss: 1.1370 - val_acc: 0.6296\n"
          ]
        }
      ],
      "source": [
        "history=model.fit(x_train,y_train,batch_size=100,epochs=10,verbose=1,validation_split=0.2,callbacks=[model_checkpoint_callback])"
      ]
    },
    {
      "cell_type": "code",
      "execution_count": null,
      "metadata": {
        "id": "bLVBmkLaG_0G"
      },
      "outputs": [],
      "source": [
        "type(x_train)"
      ]
    },
    {
      "cell_type": "code",
      "execution_count": null,
      "metadata": {
        "id": "6DSmWGTDb4XV"
      },
      "outputs": [],
      "source": [
        ""
      ]
    }
  ],
  "metadata": {
    "colab": {
      "name": "HW1_1.ipynb",
      "provenance": []
    },
    "kernelspec": {
      "display_name": "Python 3 (ipykernel)",
      "language": "python",
      "name": "python3"
    },
    "language_info": {
      "codemirror_mode": {
        "name": "ipython",
        "version": 3
      },
      "file_extension": ".py",
      "mimetype": "text/x-python",
      "name": "python",
      "nbconvert_exporter": "python",
      "pygments_lexer": "ipython3",
      "version": "3.8.10"
    },
    "accelerator": "GPU"
  },
  "nbformat": 4,
  "nbformat_minor": 0
}