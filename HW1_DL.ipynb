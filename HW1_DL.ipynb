{
  "nbformat": 4,
  "nbformat_minor": 0,
  "metadata": {
    "colab": {
      "name": "HW1_1.ipynb",
      "provenance": []
    },
    "kernelspec": {
      "name": "python3",
      "display_name": "Python 3"
    },
    "language_info": {
      "name": "python"
    }
  },
  "cells": [
    {
      "cell_type": "code",
      "source": [
        "import pandas as pd\n",
        "import numpy as np\n",
        "url ='https://raw.githubusercontent.com/khwanck/DeepLearning_NIDA01/main/winedata.csv'\n",
        "data=pd.read_csv(url,)\n",
        "data.head(5)"
      ],
      "metadata": {
        "colab": {
          "base_uri": "https://localhost:8080/",
          "height": 267
        },
        "id": "2NLa9R5EBC6M",
        "outputId": "714e3782-2924-4cf4-d6c9-c961732a058e"
      },
      "execution_count": 1,
      "outputs": [
        {
          "output_type": "execute_result",
          "data": {
            "text/html": [
              "\n",
              "  <div id=\"df-732839fb-257a-4950-bcc5-c6cee835a257\">\n",
              "    <div class=\"colab-df-container\">\n",
              "      <div>\n",
              "<style scoped>\n",
              "    .dataframe tbody tr th:only-of-type {\n",
              "        vertical-align: middle;\n",
              "    }\n",
              "\n",
              "    .dataframe tbody tr th {\n",
              "        vertical-align: top;\n",
              "    }\n",
              "\n",
              "    .dataframe thead th {\n",
              "        text-align: right;\n",
              "    }\n",
              "</style>\n",
              "<table border=\"1\" class=\"dataframe\">\n",
              "  <thead>\n",
              "    <tr style=\"text-align: right;\">\n",
              "      <th></th>\n",
              "      <th>Y</th>\n",
              "      <th>Alcohol</th>\n",
              "      <th>Malic acid</th>\n",
              "      <th>Ash</th>\n",
              "      <th>Alcalinity of ash</th>\n",
              "      <th>Magnesium</th>\n",
              "      <th>Total phenols</th>\n",
              "      <th>Flavanoids</th>\n",
              "      <th>Nonflavanoid phenols</th>\n",
              "      <th>Proanthocyanins</th>\n",
              "      <th>Color intensity</th>\n",
              "      <th>Hue</th>\n",
              "      <th>OD280/OD315 of diluted wines\\t</th>\n",
              "      <th>Proline</th>\n",
              "    </tr>\n",
              "  </thead>\n",
              "  <tbody>\n",
              "    <tr>\n",
              "      <th>0</th>\n",
              "      <td>1</td>\n",
              "      <td>14.23</td>\n",
              "      <td>1.71</td>\n",
              "      <td>2.43</td>\n",
              "      <td>15.6</td>\n",
              "      <td>127</td>\n",
              "      <td>2.80</td>\n",
              "      <td>3.06</td>\n",
              "      <td>0.28</td>\n",
              "      <td>2.29</td>\n",
              "      <td>5.64</td>\n",
              "      <td>1.04</td>\n",
              "      <td>3.92</td>\n",
              "      <td>1065</td>\n",
              "    </tr>\n",
              "    <tr>\n",
              "      <th>1</th>\n",
              "      <td>1</td>\n",
              "      <td>13.20</td>\n",
              "      <td>1.78</td>\n",
              "      <td>2.14</td>\n",
              "      <td>11.2</td>\n",
              "      <td>100</td>\n",
              "      <td>2.65</td>\n",
              "      <td>2.76</td>\n",
              "      <td>0.26</td>\n",
              "      <td>1.28</td>\n",
              "      <td>4.38</td>\n",
              "      <td>1.05</td>\n",
              "      <td>3.40</td>\n",
              "      <td>1050</td>\n",
              "    </tr>\n",
              "    <tr>\n",
              "      <th>2</th>\n",
              "      <td>1</td>\n",
              "      <td>13.16</td>\n",
              "      <td>2.36</td>\n",
              "      <td>2.67</td>\n",
              "      <td>18.6</td>\n",
              "      <td>101</td>\n",
              "      <td>2.80</td>\n",
              "      <td>3.24</td>\n",
              "      <td>0.30</td>\n",
              "      <td>2.81</td>\n",
              "      <td>5.68</td>\n",
              "      <td>1.03</td>\n",
              "      <td>3.17</td>\n",
              "      <td>1185</td>\n",
              "    </tr>\n",
              "    <tr>\n",
              "      <th>3</th>\n",
              "      <td>1</td>\n",
              "      <td>14.37</td>\n",
              "      <td>1.95</td>\n",
              "      <td>2.50</td>\n",
              "      <td>16.8</td>\n",
              "      <td>113</td>\n",
              "      <td>3.85</td>\n",
              "      <td>3.49</td>\n",
              "      <td>0.24</td>\n",
              "      <td>2.18</td>\n",
              "      <td>7.80</td>\n",
              "      <td>0.86</td>\n",
              "      <td>3.45</td>\n",
              "      <td>1480</td>\n",
              "    </tr>\n",
              "    <tr>\n",
              "      <th>4</th>\n",
              "      <td>1</td>\n",
              "      <td>13.24</td>\n",
              "      <td>2.59</td>\n",
              "      <td>2.87</td>\n",
              "      <td>21.0</td>\n",
              "      <td>118</td>\n",
              "      <td>2.80</td>\n",
              "      <td>2.69</td>\n",
              "      <td>0.39</td>\n",
              "      <td>1.82</td>\n",
              "      <td>4.32</td>\n",
              "      <td>1.04</td>\n",
              "      <td>2.93</td>\n",
              "      <td>735</td>\n",
              "    </tr>\n",
              "  </tbody>\n",
              "</table>\n",
              "</div>\n",
              "      <button class=\"colab-df-convert\" onclick=\"convertToInteractive('df-732839fb-257a-4950-bcc5-c6cee835a257')\"\n",
              "              title=\"Convert this dataframe to an interactive table.\"\n",
              "              style=\"display:none;\">\n",
              "        \n",
              "  <svg xmlns=\"http://www.w3.org/2000/svg\" height=\"24px\"viewBox=\"0 0 24 24\"\n",
              "       width=\"24px\">\n",
              "    <path d=\"M0 0h24v24H0V0z\" fill=\"none\"/>\n",
              "    <path d=\"M18.56 5.44l.94 2.06.94-2.06 2.06-.94-2.06-.94-.94-2.06-.94 2.06-2.06.94zm-11 1L8.5 8.5l.94-2.06 2.06-.94-2.06-.94L8.5 2.5l-.94 2.06-2.06.94zm10 10l.94 2.06.94-2.06 2.06-.94-2.06-.94-.94-2.06-.94 2.06-2.06.94z\"/><path d=\"M17.41 7.96l-1.37-1.37c-.4-.4-.92-.59-1.43-.59-.52 0-1.04.2-1.43.59L10.3 9.45l-7.72 7.72c-.78.78-.78 2.05 0 2.83L4 21.41c.39.39.9.59 1.41.59.51 0 1.02-.2 1.41-.59l7.78-7.78 2.81-2.81c.8-.78.8-2.07 0-2.86zM5.41 20L4 18.59l7.72-7.72 1.47 1.35L5.41 20z\"/>\n",
              "  </svg>\n",
              "      </button>\n",
              "      \n",
              "  <style>\n",
              "    .colab-df-container {\n",
              "      display:flex;\n",
              "      flex-wrap:wrap;\n",
              "      gap: 12px;\n",
              "    }\n",
              "\n",
              "    .colab-df-convert {\n",
              "      background-color: #E8F0FE;\n",
              "      border: none;\n",
              "      border-radius: 50%;\n",
              "      cursor: pointer;\n",
              "      display: none;\n",
              "      fill: #1967D2;\n",
              "      height: 32px;\n",
              "      padding: 0 0 0 0;\n",
              "      width: 32px;\n",
              "    }\n",
              "\n",
              "    .colab-df-convert:hover {\n",
              "      background-color: #E2EBFA;\n",
              "      box-shadow: 0px 1px 2px rgba(60, 64, 67, 0.3), 0px 1px 3px 1px rgba(60, 64, 67, 0.15);\n",
              "      fill: #174EA6;\n",
              "    }\n",
              "\n",
              "    [theme=dark] .colab-df-convert {\n",
              "      background-color: #3B4455;\n",
              "      fill: #D2E3FC;\n",
              "    }\n",
              "\n",
              "    [theme=dark] .colab-df-convert:hover {\n",
              "      background-color: #434B5C;\n",
              "      box-shadow: 0px 1px 3px 1px rgba(0, 0, 0, 0.15);\n",
              "      filter: drop-shadow(0px 1px 2px rgba(0, 0, 0, 0.3));\n",
              "      fill: #FFFFFF;\n",
              "    }\n",
              "  </style>\n",
              "\n",
              "      <script>\n",
              "        const buttonEl =\n",
              "          document.querySelector('#df-732839fb-257a-4950-bcc5-c6cee835a257 button.colab-df-convert');\n",
              "        buttonEl.style.display =\n",
              "          google.colab.kernel.accessAllowed ? 'block' : 'none';\n",
              "\n",
              "        async function convertToInteractive(key) {\n",
              "          const element = document.querySelector('#df-732839fb-257a-4950-bcc5-c6cee835a257');\n",
              "          const dataTable =\n",
              "            await google.colab.kernel.invokeFunction('convertToInteractive',\n",
              "                                                     [key], {});\n",
              "          if (!dataTable) return;\n",
              "\n",
              "          const docLinkHtml = 'Like what you see? Visit the ' +\n",
              "            '<a target=\"_blank\" href=https://colab.research.google.com/notebooks/data_table.ipynb>data table notebook</a>'\n",
              "            + ' to learn more about interactive tables.';\n",
              "          element.innerHTML = '';\n",
              "          dataTable['output_type'] = 'display_data';\n",
              "          await google.colab.output.renderOutput(dataTable, element);\n",
              "          const docLink = document.createElement('div');\n",
              "          docLink.innerHTML = docLinkHtml;\n",
              "          element.appendChild(docLink);\n",
              "        }\n",
              "      </script>\n",
              "    </div>\n",
              "  </div>\n",
              "  "
            ],
            "text/plain": [
              "   Y  Alcohol  Malic acid  ...   Hue  OD280/OD315 of diluted wines\\t  Proline\n",
              "0  1    14.23        1.71  ...  1.04                            3.92     1065\n",
              "1  1    13.20        1.78  ...  1.05                            3.40     1050\n",
              "2  1    13.16        2.36  ...  1.03                            3.17     1185\n",
              "3  1    14.37        1.95  ...  0.86                            3.45     1480\n",
              "4  1    13.24        2.59  ...  1.04                            2.93      735\n",
              "\n",
              "[5 rows x 14 columns]"
            ]
          },
          "metadata": {},
          "execution_count": 1
        }
      ]
    },
    {
      "cell_type": "code",
      "source": [
        "x=data.drop('Y',1)\n",
        "y=data.Y\n",
        "print(x.head(5))\n",
        "print(y.head(5))"
      ],
      "metadata": {
        "colab": {
          "base_uri": "https://localhost:8080/"
        },
        "id": "oE1b0x7UBDnP",
        "outputId": "26667661-aed3-4d18-9306-72e55533d9b3"
      },
      "execution_count": null,
      "outputs": [
        {
          "output_type": "stream",
          "name": "stdout",
          "text": [
            "   Alcohol  Malic acid   Ash  ...   Hue  OD280/OD315 of diluted wines  Proline\n",
            "0    14.23        1.71  2.43  ...  1.04                          3.92     1065\n",
            "1    13.20        1.78  2.14  ...  1.05                          3.40     1050\n",
            "2    13.16        2.36  2.67  ...  1.03                          3.17     1185\n",
            "3    14.37        1.95  2.50  ...  0.86                          3.45     1480\n",
            "4    13.24        2.59  2.87  ...  1.04                          2.93      735\n",
            "\n",
            "[5 rows x 13 columns]\n",
            "0    1\n",
            "1    1\n",
            "2    1\n",
            "3    1\n",
            "4    1\n",
            "Name: Y, dtype: int64\n"
          ]
        }
      ]
    },
    {
      "cell_type": "code",
      "source": [
        "from sklearn.model_selection import train_test_split\n",
        "x_train,x_test,y_train,y_test= train_test_split(x,y,random_state=0)\n",
        "type(x_train)"
      ],
      "metadata": {
        "colab": {
          "base_uri": "https://localhost:8080/"
        },
        "id": "xFksWUAYBF5R",
        "outputId": "d8374dba-6b14-4dbb-bfa5-a0b98f94b650"
      },
      "execution_count": null,
      "outputs": [
        {
          "output_type": "execute_result",
          "data": {
            "text/plain": [
              "pandas.core.frame.DataFrame"
            ]
          },
          "metadata": {},
          "execution_count": 5
        }
      ]
    },
    {
      "cell_type": "code",
      "source": [
        "from sklearn.preprocessing import StandardScaler\n",
        "Scaler_X = StandardScaler()\n",
        "x_train = Scaler_X.fit_transform(x_train)\n",
        "x_test = Scaler_X.transform(x_test)\n",
        "type(x_train)\n",
        "type(y_train)"
      ],
      "metadata": {
        "colab": {
          "base_uri": "https://localhost:8080/"
        },
        "id": "tutmYKLUJ-rU",
        "outputId": "e72645f4-ed32-4f55-a46c-77b0a3da4f58"
      },
      "execution_count": null,
      "outputs": [
        {
          "output_type": "execute_result",
          "data": {
            "text/plain": [
              "pandas.core.series.Series"
            ]
          },
          "metadata": {},
          "execution_count": 6
        }
      ]
    },
    {
      "cell_type": "code",
      "source": [
        "#x_train = x_train.to_numpy()\n",
        "y_train = y_train.to_numpy()\n",
        "x_train=x_train.astype(np.float32)\n",
        "y_train=y_train.astype(np.float32)\n",
        "input_dim=13\n",
        "output_dim=4\n",
        "type(y_train)"
      ],
      "metadata": {
        "colab": {
          "base_uri": "https://localhost:8080/"
        },
        "id": "t3bnLhlOBWnq",
        "outputId": "65269e50-b7b3-4937-e38f-5cc9719173ec"
      },
      "execution_count": null,
      "outputs": [
        {
          "output_type": "execute_result",
          "data": {
            "text/plain": [
              "numpy.ndarray"
            ]
          },
          "metadata": {},
          "execution_count": 7
        }
      ]
    },
    {
      "cell_type": "code",
      "source": [
        "import sys\n",
        "print(f\"Python{sys.version}\\n\")\n",
        "import numpy as np\n",
        "import matplotlib.pyplot as plt\n",
        "import tensorflow as tf "
      ],
      "metadata": {
        "colab": {
          "base_uri": "https://localhost:8080/"
        },
        "id": "7f2jirInB48V",
        "outputId": "9cf8fbab-f52d-457c-b13d-603719923e62"
      },
      "execution_count": null,
      "outputs": [
        {
          "output_type": "stream",
          "name": "stdout",
          "text": [
            "Python3.7.12 (default, Sep 10 2021, 00:21:48) \n",
            "[GCC 7.5.0]\n",
            "\n"
          ]
        }
      ]
    },
    {
      "cell_type": "code",
      "source": [
        "model=tf.keras.models.Sequential()\n",
        "#input layer\n",
        "model.add(tf.keras.Input(shape=(input_dim)))\n",
        "\n",
        "#hidden layer\n",
        "model.add(tf.keras.layers.Dense(10,activation='relu',name='Hidden1'))\n",
        "model.add(tf.keras.layers.BatchNormalization(axis=-1,name='BN1'))\n",
        "model.add(tf.keras.layers.Dense(10,activation='relu',name='Hidden2'))\n",
        "model.add(tf.keras.layers.BatchNormalization(axis=-1,name='BN2'))\n",
        "model.add(tf.keras.layers.Dense(10,activation='relu',name='Hidden3'))\n",
        "model.add(tf.keras.layers.BatchNormalization(axis=-1,name='BN3'))\n",
        "model.add(tf.keras.layers.Dropout(0.8))\n",
        "\n",
        "#output layer\n",
        "model.add(tf.keras.layers.Dense(output_dim,activation='softmax',name='output'))\n",
        "\n",
        "model.summary()"
      ],
      "metadata": {
        "colab": {
          "base_uri": "https://localhost:8080/"
        },
        "id": "dh3VRqLyBaWX",
        "outputId": "914cf1ff-086e-42db-bd1c-904529113a37"
      },
      "execution_count": null,
      "outputs": [
        {
          "output_type": "stream",
          "name": "stdout",
          "text": [
            "Model: \"sequential_5\"\n",
            "_________________________________________________________________\n",
            " Layer (type)                Output Shape              Param #   \n",
            "=================================================================\n",
            " Hidden1 (Dense)             (None, 10)                140       \n",
            "                                                                 \n",
            " BN1 (BatchNormalization)    (None, 10)                40        \n",
            "                                                                 \n",
            " Hidden2 (Dense)             (None, 10)                110       \n",
            "                                                                 \n",
            " BN2 (BatchNormalization)    (None, 10)                40        \n",
            "                                                                 \n",
            " Hidden3 (Dense)             (None, 10)                110       \n",
            "                                                                 \n",
            " BN3 (BatchNormalization)    (None, 10)                40        \n",
            "                                                                 \n",
            " dropout_5 (Dropout)         (None, 10)                0         \n",
            "                                                                 \n",
            " output (Dense)              (None, 4)                 44        \n",
            "                                                                 \n",
            "=================================================================\n",
            "Total params: 524\n",
            "Trainable params: 464\n",
            "Non-trainable params: 60\n",
            "_________________________________________________________________\n"
          ]
        }
      ]
    },
    {
      "cell_type": "code",
      "source": [
        "model.compile(optimizer='adam',loss='sparse_categorical_crossentropy',metrics=['acc'])\n"
      ],
      "metadata": {
        "id": "Jje6se-hBbsa"
      },
      "execution_count": null,
      "outputs": []
    },
    {
      "cell_type": "code",
      "source": [
        "#display(y_train)\n",
        "#np.shape(y_train)"
      ],
      "metadata": {
        "id": "N2v4j-ejMhHu"
      },
      "execution_count": null,
      "outputs": []
    },
    {
      "cell_type": "code",
      "source": [
        "#display(x_train)\n",
        "#np.shape(x_train)"
      ],
      "metadata": {
        "id": "pr2emjISNKnJ"
      },
      "execution_count": null,
      "outputs": []
    },
    {
      "cell_type": "code",
      "source": [
        "checkpoint_filepath=\"bestmodel_epoch{epoch:02d}_valloss{val_loss:.2f}.hdf5\"\n",
        "model_checkpoint_callback=tf.keras.callbacks.ModelCheckpoint(filepath=checkpoint_filepath,save_weights_only=True,monitor='val_acc',mode='max',save_best_only=True)\n",
        "history=model.fit(x_train,y_train,batch_size=100,epochs=20,verbose=1,validation_split=0.2,callbacks=[model_checkpoint_callback])"
      ],
      "metadata": {
        "colab": {
          "base_uri": "https://localhost:8080/"
        },
        "id": "oo6pmDCKDqFl",
        "outputId": "31cfa95b-6d12-44f9-b7dd-f9d567e792b6"
      },
      "execution_count": null,
      "outputs": [
        {
          "output_type": "stream",
          "name": "stdout",
          "text": [
            "Epoch 1/20\n",
            "2/2 [==============================] - 1s 246ms/step - loss: 2.1763 - acc: 0.3208 - val_loss: 1.1921 - val_acc: 0.6296\n",
            "Epoch 2/20\n",
            "2/2 [==============================] - 0s 25ms/step - loss: 2.7642 - acc: 0.3113 - val_loss: 1.1872 - val_acc: 0.6296\n",
            "Epoch 3/20\n",
            "2/2 [==============================] - 0s 29ms/step - loss: 2.2373 - acc: 0.3962 - val_loss: 1.1804 - val_acc: 0.6296\n",
            "Epoch 4/20\n",
            "2/2 [==============================] - 0s 25ms/step - loss: 2.6204 - acc: 0.3019 - val_loss: 1.1748 - val_acc: 0.5926\n",
            "Epoch 5/20\n",
            "2/2 [==============================] - 0s 49ms/step - loss: 2.4322 - acc: 0.3208 - val_loss: 1.1709 - val_acc: 0.6667\n",
            "Epoch 6/20\n",
            "2/2 [==============================] - 0s 27ms/step - loss: 2.6303 - acc: 0.3774 - val_loss: 1.1654 - val_acc: 0.6667\n",
            "Epoch 7/20\n",
            "2/2 [==============================] - 0s 26ms/step - loss: 2.4514 - acc: 0.3491 - val_loss: 1.1614 - val_acc: 0.6667\n",
            "Epoch 8/20\n",
            "2/2 [==============================] - 0s 25ms/step - loss: 2.5592 - acc: 0.2830 - val_loss: 1.1562 - val_acc: 0.6667\n",
            "Epoch 9/20\n",
            "2/2 [==============================] - 0s 83ms/step - loss: 2.4581 - acc: 0.3113 - val_loss: 1.1508 - val_acc: 0.7037\n",
            "Epoch 10/20\n",
            "2/2 [==============================] - 0s 64ms/step - loss: 2.1856 - acc: 0.3962 - val_loss: 1.1459 - val_acc: 0.7407\n",
            "Epoch 11/20\n",
            "2/2 [==============================] - 0s 27ms/step - loss: 2.6946 - acc: 0.3113 - val_loss: 1.1403 - val_acc: 0.7407\n",
            "Epoch 12/20\n",
            "2/2 [==============================] - 0s 33ms/step - loss: 2.5153 - acc: 0.3491 - val_loss: 1.1359 - val_acc: 0.7037\n",
            "Epoch 13/20\n",
            "2/2 [==============================] - 0s 26ms/step - loss: 2.4295 - acc: 0.3491 - val_loss: 1.1309 - val_acc: 0.7037\n",
            "Epoch 14/20\n",
            "2/2 [==============================] - 0s 30ms/step - loss: 1.9177 - acc: 0.3962 - val_loss: 1.1283 - val_acc: 0.7407\n",
            "Epoch 15/20\n",
            "2/2 [==============================] - 0s 25ms/step - loss: 2.4611 - acc: 0.3396 - val_loss: 1.1253 - val_acc: 0.7407\n",
            "Epoch 16/20\n",
            "2/2 [==============================] - 0s 58ms/step - loss: 2.4462 - acc: 0.3208 - val_loss: 1.1193 - val_acc: 0.8148\n",
            "Epoch 17/20\n",
            "2/2 [==============================] - 0s 26ms/step - loss: 2.4135 - acc: 0.3396 - val_loss: 1.1171 - val_acc: 0.8148\n",
            "Epoch 18/20\n",
            "2/2 [==============================] - 0s 27ms/step - loss: 2.5849 - acc: 0.3302 - val_loss: 1.1133 - val_acc: 0.8148\n",
            "Epoch 19/20\n",
            "2/2 [==============================] - 0s 27ms/step - loss: 1.7584 - acc: 0.4245 - val_loss: 1.1098 - val_acc: 0.8148\n",
            "Epoch 20/20\n",
            "2/2 [==============================] - 0s 31ms/step - loss: 2.1035 - acc: 0.4057 - val_loss: 1.1060 - val_acc: 0.7778\n"
          ]
        }
      ]
    },
    {
      "cell_type": "code",
      "source": [
        "# Summarize history for accuracy\n",
        "plt.figure(figsize=(15,5))\n",
        "plt.plot(history.history['acc'])\n",
        "plt.plot(history.history['val_acc'])\n",
        "plt.title('Train accuracy')\n",
        "plt.ylabel('accuracy')\n",
        "plt.xlabel('epoch')\n",
        "plt.legend(['train', 'test'], loc='upper left')\n",
        "plt.grid()\n",
        "plt.show()\n",
        "\n",
        "# Summarize history for loss\n",
        "plt.figure(figsize=(15,5))\n",
        "plt.plot(history.history['loss'])\n",
        "plt.plot(history.history['val_loss'])\n",
        "plt.title('Train loss')\n",
        "plt.ylabel('loss')\n",
        "plt.xlabel('epoch')\n",
        "plt.legend(['train', 'test'], loc='upper left')\n",
        "plt.grid()\n",
        "plt.show()"
      ],
      "metadata": {
        "colab": {
          "base_uri": "https://localhost:8080/",
          "height": 683
        },
        "id": "bLVBmkLaG_0G",
        "outputId": "273c8515-e0dd-479b-a217-4292716ccd68"
      },
      "execution_count": null,
      "outputs": [
        {
          "output_type": "display_data",
          "data": {
            "image/png": "[encoded data removed]",
            "text/plain": [
              "<Figure size 1080x360 with 1 Axes>"
            ]
          },
          "metadata": {
            "needs_background": "light"
          }
        },
        {
          "output_type": "display_data",
          "data": {
            "image/png": "[encoded data removed]",
            "text/plain": [
              "<Figure size 1080x360 with 1 Axes>"
            ]
          },
          "metadata": {
            "needs_background": "light"
          }
        }
      ]
    },
    {
      "cell_type": "code",
      "source": [
        "results = model.evaluate(x_test, y_test, batch_size=128)\n",
        "print(f\"{model.metrics_names} = {results}\")"
      ],
      "metadata": {
        "colab": {
          "base_uri": "https://localhost:8080/"
        },
        "id": "Cer4TGUicPZm",
        "outputId": "9dd2c82a-11b1-4cf9-e22c-d9bab52906fc"
      },
      "execution_count": null,
      "outputs": [
        {
          "output_type": "stream",
          "name": "stdout",
          "text": [
            "1/1 [==============================] - 0s 165ms/step - loss: 1.1137 - acc: 0.6444\n",
            "['loss', 'acc'] = [1.113718867301941, 0.644444465637207]\n"
          ]
        }
      ]
    },
    {
      "cell_type": "code",
      "source": [
        "# Test using the model on x_test[i]\n",
        "i = 0\n",
        "y_pred = model.predict(x_test[i].reshape(1,-1)) # reshape x_test[i] from (n_feature,) to (1, n_feature)\n",
        "\n",
        "print(f\"{'#'*10} Input: x_test[{i}] {'#'*10}\")\n",
        "print(f\"shape={x_test[i].shape}\\nvalue={x_test[i]}\\n\")\n",
        "\n",
        "print(f\"{'#'*10} Ground truth: y_test[{i}] {'#'*10}\")\n",
        "#print(f\"shape={y_test[i].shape}\\nvalue={y_test[i]}\\n\")\n",
        "\n",
        "print(f\"{'#'*10} Prediction: y_pred {'#'*10}\")\n",
        "print(f\"type={type(y_pred)}\\ndtype={y_pred.dtype}\\nshape={y_pred.shape}\")\n",
        "print(f\"value={y_pred}\")\n",
        "print(f\"np.argmax(y_pred)={np.argmax(y_pred)}\")"
      ],
      "metadata": {
        "colab": {
          "base_uri": "https://localhost:8080/"
        },
        "id": "FtxlSgKHcVc0",
        "outputId": "2ff326c0-3fd0-41bf-d6d6-708484e6de78"
      },
      "execution_count": null,
      "outputs": [
        {
          "output_type": "stream",
          "name": "stdout",
          "text": [
            "########## Input: x_test[0] ##########\n",
            "shape=(13,)\n",
            "value=[ 0.92484643 -0.64469361 -0.42620477 -0.88610265  1.21559263  0.5539025\n",
            "  0.96128966 -1.20875804  0.01757924  0.30754192 -0.11757764  0.8498603\n",
            "  1.02650167]\n",
            "\n",
            "########## Ground truth: y_test[0] ##########\n",
            "########## Prediction: y_pred ##########\n",
            "type=<class 'numpy.ndarray'>\n",
            "dtype=float32\n",
            "shape=(1, 4)\n",
            "value=[[0.11229211 0.6254936  0.10537428 0.15684   ]]\n",
            "np.argmax(y_pred)=1\n"
          ]
        }
      ]
    }
  ]
}