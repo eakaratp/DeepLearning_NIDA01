{
  "nbformat": 4,
  "nbformat_minor": 0,
  "metadata": {
    "colab": {
      "name": "HW1_1.ipynb",
      "provenance": []
    },
    "kernelspec": {
      "name": "python3",
      "display_name": "Python 3"
    },
    "language_info": {
      "name": "python"
    }
  },
  "cells": [
    {
      "cell_type": "code",
      "source": [
        "import pandas as pd\n",
        "import numpy as np\n",
        "#url ='https://raw.githubusercontent.com/khwanck/DeepLearning_NIDA01/main/winedata.csv'\n",
        "url ='https://raw.githubusercontent.com/khwanck/DeepLearning_NIDA01/main/winequality-red.csv'\n",
        "data=pd.read_csv(url,)\n",
        "data.head(5)"
      ],
      "metadata": {
        "colab": {
          "base_uri": "https://localhost:8080/",
          "height": 206
        },
        "id": "2NLa9R5EBC6M",
        "outputId": "c2e17b44-3c77-4ebd-d4a7-2bc438d2d952"
      },
      "execution_count": 5,
      "outputs": [
        {
          "output_type": "execute_result",
          "data": {
            "text/html": [
              "\n",
              "  <div id=\"df-f4169f32-1dad-4b93-b9a0-7bf1e5d96e76\">\n",
              "    <div class=\"colab-df-container\">\n",
              "      <div>\n",
              "<style scoped>\n",
              "    .dataframe tbody tr th:only-of-type {\n",
              "        vertical-align: middle;\n",
              "    }\n",
              "\n",
              "    .dataframe tbody tr th {\n",
              "        vertical-align: top;\n",
              "    }\n",
              "\n",
              "    .dataframe thead th {\n",
              "        text-align: right;\n",
              "    }\n",
              "</style>\n",
              "<table border=\"1\" class=\"dataframe\">\n",
              "  <thead>\n",
              "    <tr style=\"text-align: right;\">\n",
              "      <th></th>\n",
              "      <th>fixed acidity</th>\n",
              "      <th>volatile acidity</th>\n",
              "      <th>citric acid</th>\n",
              "      <th>residual sugar</th>\n",
              "      <th>chlorides</th>\n",
              "      <th>free sulfur dioxide</th>\n",
              "      <th>total sulfur dioxide</th>\n",
              "      <th>density</th>\n",
              "      <th>pH</th>\n",
              "      <th>sulphates</th>\n",
              "      <th>alcohol</th>\n",
              "      <th>Y</th>\n",
              "    </tr>\n",
              "  </thead>\n",
              "  <tbody>\n",
              "    <tr>\n",
              "      <th>0</th>\n",
              "      <td>7.4</td>\n",
              "      <td>0.70</td>\n",
              "      <td>0.00</td>\n",
              "      <td>1.9</td>\n",
              "      <td>0.076</td>\n",
              "      <td>11.0</td>\n",
              "      <td>34.0</td>\n",
              "      <td>0.9978</td>\n",
              "      <td>3.51</td>\n",
              "      <td>0.56</td>\n",
              "      <td>9.4</td>\n",
              "      <td>5</td>\n",
              "    </tr>\n",
              "    <tr>\n",
              "      <th>1</th>\n",
              "      <td>7.8</td>\n",
              "      <td>0.88</td>\n",
              "      <td>0.00</td>\n",
              "      <td>2.6</td>\n",
              "      <td>0.098</td>\n",
              "      <td>25.0</td>\n",
              "      <td>67.0</td>\n",
              "      <td>0.9968</td>\n",
              "      <td>3.20</td>\n",
              "      <td>0.68</td>\n",
              "      <td>9.8</td>\n",
              "      <td>5</td>\n",
              "    </tr>\n",
              "    <tr>\n",
              "      <th>2</th>\n",
              "      <td>7.8</td>\n",
              "      <td>0.76</td>\n",
              "      <td>0.04</td>\n",
              "      <td>2.3</td>\n",
              "      <td>0.092</td>\n",
              "      <td>15.0</td>\n",
              "      <td>54.0</td>\n",
              "      <td>0.9970</td>\n",
              "      <td>3.26</td>\n",
              "      <td>0.65</td>\n",
              "      <td>9.8</td>\n",
              "      <td>5</td>\n",
              "    </tr>\n",
              "    <tr>\n",
              "      <th>3</th>\n",
              "      <td>11.2</td>\n",
              "      <td>0.28</td>\n",
              "      <td>0.56</td>\n",
              "      <td>1.9</td>\n",
              "      <td>0.075</td>\n",
              "      <td>17.0</td>\n",
              "      <td>60.0</td>\n",
              "      <td>0.9980</td>\n",
              "      <td>3.16</td>\n",
              "      <td>0.58</td>\n",
              "      <td>9.8</td>\n",
              "      <td>6</td>\n",
              "    </tr>\n",
              "    <tr>\n",
              "      <th>4</th>\n",
              "      <td>7.4</td>\n",
              "      <td>0.70</td>\n",
              "      <td>0.00</td>\n",
              "      <td>1.9</td>\n",
              "      <td>0.076</td>\n",
              "      <td>11.0</td>\n",
              "      <td>34.0</td>\n",
              "      <td>0.9978</td>\n",
              "      <td>3.51</td>\n",
              "      <td>0.56</td>\n",
              "      <td>9.4</td>\n",
              "      <td>5</td>\n",
              "    </tr>\n",
              "  </tbody>\n",
              "</table>\n",
              "</div>\n",
              "      <button class=\"colab-df-convert\" onclick=\"convertToInteractive('df-f4169f32-1dad-4b93-b9a0-7bf1e5d96e76')\"\n",
              "              title=\"Convert this dataframe to an interactive table.\"\n",
              "              style=\"display:none;\">\n",
              "        \n",
              "  <svg xmlns=\"http://www.w3.org/2000/svg\" height=\"24px\"viewBox=\"0 0 24 24\"\n",
              "       width=\"24px\">\n",
              "    <path d=\"M0 0h24v24H0V0z\" fill=\"none\"/>\n",
              "    <path d=\"M18.56 5.44l.94 2.06.94-2.06 2.06-.94-2.06-.94-.94-2.06-.94 2.06-2.06.94zm-11 1L8.5 8.5l.94-2.06 2.06-.94-2.06-.94L8.5 2.5l-.94 2.06-2.06.94zm10 10l.94 2.06.94-2.06 2.06-.94-2.06-.94-.94-2.06-.94 2.06-2.06.94z\"/><path d=\"M17.41 7.96l-1.37-1.37c-.4-.4-.92-.59-1.43-.59-.52 0-1.04.2-1.43.59L10.3 9.45l-7.72 7.72c-.78.78-.78 2.05 0 2.83L4 21.41c.39.39.9.59 1.41.59.51 0 1.02-.2 1.41-.59l7.78-7.78 2.81-2.81c.8-.78.8-2.07 0-2.86zM5.41 20L4 18.59l7.72-7.72 1.47 1.35L5.41 20z\"/>\n",
              "  </svg>\n",
              "      </button>\n",
              "      \n",
              "  <style>\n",
              "    .colab-df-container {\n",
              "      display:flex;\n",
              "      flex-wrap:wrap;\n",
              "      gap: 12px;\n",
              "    }\n",
              "\n",
              "    .colab-df-convert {\n",
              "      background-color: #E8F0FE;\n",
              "      border: none;\n",
              "      border-radius: 50%;\n",
              "      cursor: pointer;\n",
              "      display: none;\n",
              "      fill: #1967D2;\n",
              "      height: 32px;\n",
              "      padding: 0 0 0 0;\n",
              "      width: 32px;\n",
              "    }\n",
              "\n",
              "    .colab-df-convert:hover {\n",
              "      background-color: #E2EBFA;\n",
              "      box-shadow: 0px 1px 2px rgba(60, 64, 67, 0.3), 0px 1px 3px 1px rgba(60, 64, 67, 0.15);\n",
              "      fill: #174EA6;\n",
              "    }\n",
              "\n",
              "    [theme=dark] .colab-df-convert {\n",
              "      background-color: #3B4455;\n",
              "      fill: #D2E3FC;\n",
              "    }\n",
              "\n",
              "    [theme=dark] .colab-df-convert:hover {\n",
              "      background-color: #434B5C;\n",
              "      box-shadow: 0px 1px 3px 1px rgba(0, 0, 0, 0.15);\n",
              "      filter: drop-shadow(0px 1px 2px rgba(0, 0, 0, 0.3));\n",
              "      fill: #FFFFFF;\n",
              "    }\n",
              "  </style>\n",
              "\n",
              "      <script>\n",
              "        const buttonEl =\n",
              "          document.querySelector('#df-f4169f32-1dad-4b93-b9a0-7bf1e5d96e76 button.colab-df-convert');\n",
              "        buttonEl.style.display =\n",
              "          google.colab.kernel.accessAllowed ? 'block' : 'none';\n",
              "\n",
              "        async function convertToInteractive(key) {\n",
              "          const element = document.querySelector('#df-f4169f32-1dad-4b93-b9a0-7bf1e5d96e76');\n",
              "          const dataTable =\n",
              "            await google.colab.kernel.invokeFunction('convertToInteractive',\n",
              "                                                     [key], {});\n",
              "          if (!dataTable) return;\n",
              "\n",
              "          const docLinkHtml = 'Like what you see? Visit the ' +\n",
              "            '<a target=\"_blank\" href=https://colab.research.google.com/notebooks/data_table.ipynb>data table notebook</a>'\n",
              "            + ' to learn more about interactive tables.';\n",
              "          element.innerHTML = '';\n",
              "          dataTable['output_type'] = 'display_data';\n",
              "          await google.colab.output.renderOutput(dataTable, element);\n",
              "          const docLink = document.createElement('div');\n",
              "          docLink.innerHTML = docLinkHtml;\n",
              "          element.appendChild(docLink);\n",
              "        }\n",
              "      </script>\n",
              "    </div>\n",
              "  </div>\n",
              "  "
            ],
            "text/plain": [
              "   fixed acidity  volatile acidity  citric acid  ...  sulphates  alcohol  Y\n",
              "0            7.4              0.70         0.00  ...       0.56      9.4  5\n",
              "1            7.8              0.88         0.00  ...       0.68      9.8  5\n",
              "2            7.8              0.76         0.04  ...       0.65      9.8  5\n",
              "3           11.2              0.28         0.56  ...       0.58      9.8  6\n",
              "4            7.4              0.70         0.00  ...       0.56      9.4  5\n",
              "\n",
              "[5 rows x 12 columns]"
            ]
          },
          "metadata": {},
          "execution_count": 5
        }
      ]
    },
    {
      "cell_type": "code",
      "source": [
        "x=data.drop('Y',1)\n",
        "y=data.Y\n",
        "print(x.head(5))\n",
        "print(y.head(5))"
      ],
      "metadata": {
        "colab": {
          "base_uri": "https://localhost:8080/"
        },
        "id": "oE1b0x7UBDnP",
        "outputId": "a3444e29-c00e-43cb-ffe3-9b8e7abc16af"
      },
      "execution_count": 6,
      "outputs": [
        {
          "output_type": "stream",
          "name": "stdout",
          "text": [
            "   fixed acidity  volatile acidity  citric acid  ...    pH  sulphates  alcohol\n",
            "0            7.4              0.70         0.00  ...  3.51       0.56      9.4\n",
            "1            7.8              0.88         0.00  ...  3.20       0.68      9.8\n",
            "2            7.8              0.76         0.04  ...  3.26       0.65      9.8\n",
            "3           11.2              0.28         0.56  ...  3.16       0.58      9.8\n",
            "4            7.4              0.70         0.00  ...  3.51       0.56      9.4\n",
            "\n",
            "[5 rows x 11 columns]\n",
            "0    5\n",
            "1    5\n",
            "2    5\n",
            "3    6\n",
            "4    5\n",
            "Name: Y, dtype: int64\n"
          ]
        }
      ]
    },
    {
      "cell_type": "code",
      "source": [
        "from sklearn.model_selection import train_test_split\n",
        "x_train,x_test,y_train,y_test= train_test_split(x,y,random_state=0)\n",
        "type(x_train)"
      ],
      "metadata": {
        "colab": {
          "base_uri": "https://localhost:8080/"
        },
        "id": "xFksWUAYBF5R",
        "outputId": "f73b4683-e3ab-469d-f084-118fa26f8f65"
      },
      "execution_count": 7,
      "outputs": [
        {
          "output_type": "execute_result",
          "data": {
            "text/plain": [
              "pandas.core.frame.DataFrame"
            ]
          },
          "metadata": {},
          "execution_count": 7
        }
      ]
    },
    {
      "cell_type": "code",
      "source": [
        "from sklearn.preprocessing import StandardScaler\n",
        "Scaler_X = StandardScaler()\n",
        "x_train = Scaler_X.fit_transform(x_train)\n",
        "x_test = Scaler_X.transform(x_test)\n",
        "type(x_train)\n",
        "type(y_train)"
      ],
      "metadata": {
        "colab": {
          "base_uri": "https://localhost:8080/"
        },
        "id": "tutmYKLUJ-rU",
        "outputId": "e0602d4b-64be-495a-a50a-08dd8fb54c85"
      },
      "execution_count": 8,
      "outputs": [
        {
          "output_type": "execute_result",
          "data": {
            "text/plain": [
              "pandas.core.series.Series"
            ]
          },
          "metadata": {},
          "execution_count": 8
        }
      ]
    },
    {
      "cell_type": "code",
      "source": [
        "#x_train = x_train.to_numpy()\n",
        "#y_train = y_train.to_numpy()\n",
        "x_train=x_train.astype(np.float32)\n",
        "y_train=y_train.astype(np.float32)\n",
        "input_dim=11   # number of features \n",
        "output_dim=11   # number of output (0,1,2,...,10)\n",
        "type(y_train)"
      ],
      "metadata": {
        "colab": {
          "base_uri": "https://localhost:8080/"
        },
        "id": "t3bnLhlOBWnq",
        "outputId": "64b8fe5b-6eb1-437a-8f5a-5976770a4d31"
      },
      "execution_count": 10,
      "outputs": [
        {
          "output_type": "execute_result",
          "data": {
            "text/plain": [
              "numpy.ndarray"
            ]
          },
          "metadata": {},
          "execution_count": 10
        }
      ]
    },
    {
      "cell_type": "code",
      "source": [
        "import sys\n",
        "print(f\"Python{sys.version}\\n\")\n",
        "import numpy as np\n",
        "import matplotlib.pyplot as plt\n",
        "import tensorflow as tf "
      ],
      "metadata": {
        "colab": {
          "base_uri": "https://localhost:8080/"
        },
        "id": "7f2jirInB48V",
        "outputId": "29138b18-0fca-45ba-e203-173f03f0dc63"
      },
      "execution_count": 11,
      "outputs": [
        {
          "output_type": "stream",
          "name": "stdout",
          "text": [
            "Python3.7.12 (default, Sep 10 2021, 00:21:48) \n",
            "[GCC 7.5.0]\n",
            "\n"
          ]
        }
      ]
    },
    {
      "cell_type": "code",
      "source": [
        "model=tf.keras.models.Sequential()\n",
        "#input layer\n",
        "model.add(tf.keras.Input(shape=(input_dim)))\n",
        "\n",
        "#hidden layer\n",
        "model.add(tf.keras.layers.Dense(10,activation='relu',name='Hidden1'))\n",
        "model.add(tf.keras.layers.BatchNormalization(axis=-1,name='BN1'))\n",
        "model.add(tf.keras.layers.Dense(10,activation='relu',name='Hidden2'))\n",
        "model.add(tf.keras.layers.BatchNormalization(axis=-1,name='BN2'))\n",
        "model.add(tf.keras.layers.Dense(10,activation='relu',name='Hidden3'))\n",
        "model.add(tf.keras.layers.BatchNormalization(axis=-1,name='BN3'))\n",
        "model.add(tf.keras.layers.Dropout(0.8))\n",
        "\n",
        "#output layer\n",
        "model.add(tf.keras.layers.Dense(output_dim,activation='softmax',name='output'))\n",
        "\n",
        "model.summary()"
      ],
      "metadata": {
        "colab": {
          "base_uri": "https://localhost:8080/"
        },
        "id": "dh3VRqLyBaWX",
        "outputId": "ac6434ca-92b2-4e99-dc1a-7b966cdbe0a7"
      },
      "execution_count": 12,
      "outputs": [
        {
          "output_type": "stream",
          "name": "stdout",
          "text": [
            "Model: \"sequential\"\n",
            "_________________________________________________________________\n",
            " Layer (type)                Output Shape              Param #   \n",
            "=================================================================\n",
            " Hidden1 (Dense)             (None, 10)                120       \n",
            "                                                                 \n",
            " BN1 (BatchNormalization)    (None, 10)                40        \n",
            "                                                                 \n",
            " Hidden2 (Dense)             (None, 10)                110       \n",
            "                                                                 \n",
            " BN2 (BatchNormalization)    (None, 10)                40        \n",
            "                                                                 \n",
            " Hidden3 (Dense)             (None, 10)                110       \n",
            "                                                                 \n",
            " BN3 (BatchNormalization)    (None, 10)                40        \n",
            "                                                                 \n",
            " dropout (Dropout)           (None, 10)                0         \n",
            "                                                                 \n",
            " output (Dense)              (None, 11)                121       \n",
            "                                                                 \n",
            "=================================================================\n",
            "Total params: 581\n",
            "Trainable params: 521\n",
            "Non-trainable params: 60\n",
            "_________________________________________________________________\n"
          ]
        }
      ]
    },
    {
      "cell_type": "code",
      "source": [
        "model.compile(optimizer='adam',loss='sparse_categorical_crossentropy',metrics=['acc'])\n"
      ],
      "metadata": {
        "id": "Jje6se-hBbsa"
      },
      "execution_count": 13,
      "outputs": []
    },
    {
      "cell_type": "code",
      "source": [
        "#display(y_train)\n",
        "#np.shape(y_train)"
      ],
      "metadata": {
        "id": "N2v4j-ejMhHu"
      },
      "execution_count": null,
      "outputs": []
    },
    {
      "cell_type": "code",
      "source": [
        "#display(x_train)\n",
        "#np.shape(x_train)"
      ],
      "metadata": {
        "id": "pr2emjISNKnJ"
      },
      "execution_count": null,
      "outputs": []
    },
    {
      "cell_type": "code",
      "source": [
        "checkpoint_filepath=\"bestmodel_epoch{epoch:02d}_valloss{val_loss:.2f}.hdf5\"\n",
        "model_checkpoint_callback=tf.keras.callbacks.ModelCheckpoint(filepath=checkpoint_filepath,save_weights_only=True,monitor='val_acc',mode='max',save_best_only=True)\n",
        "history=model.fit(x_train,y_train,batch_size=100,epochs=20,verbose=1,validation_split=0.2,callbacks=[model_checkpoint_callback])"
      ],
      "metadata": {
        "colab": {
          "base_uri": "https://localhost:8080/"
        },
        "id": "oo6pmDCKDqFl",
        "outputId": "8953958d-00a9-42e3-dff2-9a58237241fe"
      },
      "execution_count": 14,
      "outputs": [
        {
          "output_type": "stream",
          "name": "stdout",
          "text": [
            "Epoch 1/20\n",
            "10/10 [==============================] - 2s 37ms/step - loss: 3.2345 - acc: 0.1293 - val_loss: 2.2942 - val_acc: 0.1292\n",
            "Epoch 2/20\n",
            "10/10 [==============================] - 0s 8ms/step - loss: 3.2738 - acc: 0.1314 - val_loss: 2.2745 - val_acc: 0.1167\n",
            "Epoch 3/20\n",
            "10/10 [==============================] - 0s 10ms/step - loss: 3.2010 - acc: 0.1418 - val_loss: 2.2577 - val_acc: 0.1333\n",
            "Epoch 4/20\n",
            "10/10 [==============================] - 0s 8ms/step - loss: 3.0311 - acc: 0.1595 - val_loss: 2.2410 - val_acc: 0.1708\n",
            "Epoch 5/20\n",
            "10/10 [==============================] - 0s 14ms/step - loss: 2.9505 - acc: 0.1668 - val_loss: 2.2251 - val_acc: 0.1833\n",
            "Epoch 6/20\n",
            "10/10 [==============================] - 0s 9ms/step - loss: 2.9972 - acc: 0.1554 - val_loss: 2.2125 - val_acc: 0.2083\n",
            "Epoch 7/20\n",
            "10/10 [==============================] - 0s 11ms/step - loss: 2.7852 - acc: 0.1773 - val_loss: 2.1985 - val_acc: 0.2250\n",
            "Epoch 8/20\n",
            "10/10 [==============================] - 0s 8ms/step - loss: 2.7500 - acc: 0.1898 - val_loss: 2.1813 - val_acc: 0.2708\n",
            "Epoch 9/20\n",
            "10/10 [==============================] - 0s 8ms/step - loss: 2.6738 - acc: 0.2200 - val_loss: 2.1630 - val_acc: 0.2833\n",
            "Epoch 10/20\n",
            "10/10 [==============================] - 0s 10ms/step - loss: 2.7033 - acc: 0.2065 - val_loss: 2.1439 - val_acc: 0.3125\n",
            "Epoch 11/20\n",
            "10/10 [==============================] - 0s 11ms/step - loss: 2.6591 - acc: 0.2273 - val_loss: 2.1242 - val_acc: 0.3458\n",
            "Epoch 12/20\n",
            "10/10 [==============================] - 0s 10ms/step - loss: 2.6208 - acc: 0.2263 - val_loss: 2.1070 - val_acc: 0.3833\n",
            "Epoch 13/20\n",
            "10/10 [==============================] - 0s 9ms/step - loss: 2.6016 - acc: 0.2482 - val_loss: 2.0901 - val_acc: 0.4083\n",
            "Epoch 14/20\n",
            "10/10 [==============================] - 0s 9ms/step - loss: 2.5153 - acc: 0.2409 - val_loss: 2.0723 - val_acc: 0.4250\n",
            "Epoch 15/20\n",
            "10/10 [==============================] - 0s 7ms/step - loss: 2.4898 - acc: 0.2534 - val_loss: 2.0543 - val_acc: 0.4250\n",
            "Epoch 16/20\n",
            "10/10 [==============================] - 0s 7ms/step - loss: 2.4422 - acc: 0.2701 - val_loss: 2.0353 - val_acc: 0.4167\n",
            "Epoch 17/20\n",
            "10/10 [==============================] - 0s 7ms/step - loss: 2.3977 - acc: 0.2690 - val_loss: 2.0169 - val_acc: 0.4167\n",
            "Epoch 18/20\n",
            "10/10 [==============================] - 0s 11ms/step - loss: 2.4009 - acc: 0.2774 - val_loss: 1.9995 - val_acc: 0.4292\n",
            "Epoch 19/20\n",
            "10/10 [==============================] - 0s 11ms/step - loss: 2.3837 - acc: 0.2805 - val_loss: 1.9834 - val_acc: 0.4333\n",
            "Epoch 20/20\n",
            "10/10 [==============================] - 0s 11ms/step - loss: 2.3179 - acc: 0.3128 - val_loss: 1.9690 - val_acc: 0.4375\n"
          ]
        }
      ]
    },
    {
      "cell_type": "code",
      "source": [
        "# Summarize history for accuracy\n",
        "plt.figure(figsize=(15,5))\n",
        "plt.plot(history.history['acc'])\n",
        "plt.plot(history.history['val_acc'])\n",
        "plt.title('Train accuracy')\n",
        "plt.ylabel('accuracy')\n",
        "plt.xlabel('epoch')\n",
        "plt.legend(['train', 'test'], loc='upper left')\n",
        "plt.grid()\n",
        "plt.show()\n",
        "\n",
        "# Summarize history for loss\n",
        "plt.figure(figsize=(15,5))\n",
        "plt.plot(history.history['loss'])\n",
        "plt.plot(history.history['val_loss'])\n",
        "plt.title('Train loss')\n",
        "plt.ylabel('loss')\n",
        "plt.xlabel('epoch')\n",
        "plt.legend(['train', 'test'], loc='upper left')\n",
        "plt.grid()\n",
        "plt.show()"
      ],
      "metadata": {
        "colab": {
          "base_uri": "https://localhost:8080/",
          "height": 683
        },
        "id": "bLVBmkLaG_0G",
        "outputId": "bdb9fd16-90ff-46c9-d928-6f9034937471"
      },
      "execution_count": 15,
      "outputs": [
        {
          "output_type": "display_data",
          "data": {
            "image/png": "[encoded data removed]",
            "text/plain": [
              "<Figure size 1080x360 with 1 Axes>"
            ]
          },
          "metadata": {
            "needs_background": "light"
          }
        },
        {
          "output_type": "display_data",
          "data": {
            "image/png": "[encoded data removed]",
            "text/plain": [
              "<Figure size 1080x360 with 1 Axes>"
            ]
          },
          "metadata": {
            "needs_background": "light"
          }
        }
      ]
    },
    {
      "cell_type": "code",
      "source": [
        "results = model.evaluate(x_test, y_test, batch_size=128)\n",
        "print(f\"{model.metrics_names} = {results}\")"
      ],
      "metadata": {
        "colab": {
          "base_uri": "https://localhost:8080/"
        },
        "id": "Cer4TGUicPZm",
        "outputId": "02049340-00ca-442c-bcd9-1a237ef1090f"
      },
      "execution_count": 16,
      "outputs": [
        {
          "output_type": "stream",
          "name": "stdout",
          "text": [
            "4/4 [==============================] - 0s 4ms/step - loss: 1.9407 - acc: 0.4375\n",
            "['loss', 'acc'] = [1.9407353401184082, 0.4375]\n"
          ]
        }
      ]
    },
    {
      "cell_type": "code",
      "source": [
        "# Test using the model on x_test[i]\n",
        "i = 1\n",
        "y_pred = model.predict(x_test[i].reshape(1,-1)) # reshape x_test[i] from (n_feature,) to (1, n_feature)\n",
        "\n",
        "print(f\"{'#'*10} Input: x_test[{i}] {'#'*10}\")\n",
        "print(f\"shape={x_test[i].shape}\\nvalue={x_test[i]}\\n\")\n",
        "\n",
        "print(f\"{'#'*10} Ground truth: y_test[{i}] {'#'*10}\")\n",
        "print(f\"shape={y_test[i].shape}\\nvalue={y_test[i]}\\n\")\n",
        "\n",
        "print(f\"{'#'*10} Prediction: y_pred {'#'*10}\")\n",
        "print(f\"type={type(y_pred)}\\ndtype={y_pred.dtype}\\nshape={y_pred.shape}\")\n",
        "print(f\"value={y_pred}\")\n",
        "print(f\"np.argmax(y_pred)={np.argmax(y_pred)}\")"
      ],
      "metadata": {
        "colab": {
          "base_uri": "https://localhost:8080/"
        },
        "id": "FtxlSgKHcVc0",
        "outputId": "2a3aa10d-4906-498e-f728-34efbfcaa37a"
      },
      "execution_count": 37,
      "outputs": [
        {
          "output_type": "stream",
          "name": "stdout",
          "text": [
            "########## Input: x_test[1] ##########\n",
            "shape=(11,)\n",
            "value=[-0.13713469  1.57906477 -1.39354657  1.04393471  0.16155451 -1.04907196\n",
            " -0.98199091  0.94818221  0.3314596  -0.72822233 -0.75660071]\n",
            "\n",
            "########## Ground truth: y_test[1] ##########\n",
            "shape=()\n",
            "value=5\n",
            "\n",
            "########## Prediction: y_pred ##########\n",
            "type=<class 'numpy.ndarray'>\n",
            "dtype=float32\n",
            "shape=(1, 11)\n",
            "value=[[0.06368035 0.11819337 0.09019939 0.12511161 0.10698646 0.07634269\n",
            "  0.09378827 0.06205414 0.08642017 0.07193172 0.10529184]]\n",
            "np.argmax(y_pred)=3\n"
          ]
        }
      ]
    }
  ]
}