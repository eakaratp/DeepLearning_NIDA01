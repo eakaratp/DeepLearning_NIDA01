{
  "cells": [
    {
      "cell_type": "markdown",
      "metadata": {
        "id": "view-in-github",
        "colab_type": "text"
      },
      "source": [
        "<a href=\"https://colab.research.google.com/github/eakaratp/DeepLearning_NIDA01/blob/main/HW01_EDA_Parameter_Tuning.ipynb\" target=\"_parent\"><img src=\"https://colab.research.google.com/assets/colab-badge.svg\" alt=\"Open In Colab\"/></a>"
      ]
    },
    {
      "cell_type": "code",
      "source": [
        "!nvidia-smi -L"
      ],
      "metadata": {
        "colab": {
          "base_uri": "https://localhost:8080/",
          "height": 0
        },
        "id": "VlZD-iGsjnNf",
        "outputId": "34d08696-8b59-4295-983b-bd6f26b537d7"
      },
      "execution_count": 20,
      "outputs": [
        {
          "output_type": "stream",
          "name": "stdout",
          "text": [
            "/bin/bash: nvidia-smi: command not found\n"
          ]
        }
      ]
    },
    {
      "cell_type": "code",
      "source": [
        "import numpy as np\n",
        "print( f\"NumPy {np.__version__}\\n\" )\n",
        "import matplotlib.pyplot as plt\n",
        "%matplotlib inline\n",
        "import tensorflow as tf\n",
        "print(f\"TensorFlow {tf.__version__}\")\n",
        "print(f\"tf.keras.backend.image_data_format() = {tf.keras.backend.image_data_format()}\" )"
      ],
      "metadata": {
        "colab": {
          "base_uri": "https://localhost:8080/",
          "height": 0
        },
        "id": "fy6AzcoWj81K",
        "outputId": "d97fcf2a-2725-49c0-c1e2-c328b42e231b"
      },
      "execution_count": 22,
      "outputs": [
        {
          "output_type": "stream",
          "name": "stdout",
          "text": [
            "NumPy 1.19.5\n",
            "\n",
            "TensorFlow 2.7.0\n",
            "tf.keras.backend.image_data_format() = channels_last\n"
          ]
        }
      ]
    },
    {
      "cell_type": "code",
      "source": [
        "# Count the number of GPUs as detected by tensorflow\n",
        "gpus = tf.config.list_physical_devices('GPU')\n",
        "print( f\"TensorFlow detected { len(gpus) } GPU(s):\" )\n",
        "for i, gpu in enumerate(gpus):\n",
        "  print(f\".... GPU No. {i}: Name = {gpu.name} , Type = {gpu.device_type}\")"
      ],
      "metadata": {
        "colab": {
          "base_uri": "https://localhost:8080/",
          "height": 0
        },
        "id": "IohvHrk8kbNQ",
        "outputId": "f2f8a62d-52f9-4c4c-c762-889211462006"
      },
      "execution_count": 23,
      "outputs": [
        {
          "output_type": "stream",
          "name": "stdout",
          "text": [
            "TensorFlow detected 0 GPU(s):\n"
          ]
        }
      ]
    },
    {
      "cell_type": "markdown",
      "source": [
        "# **[☠] HELLO WORLD! : We were group II** \n",
        "#Here's how we tuned the wine quality model with machine learning and deep learning\n",
        "\n"
      ],
      "metadata": {
        "id": "Q1hWnVaH1zdd"
      }
    },
    {
      "cell_type": "markdown",
      "source": [
        "---\n",
        "**Noted**  \n",
        "* `Dependencies: Coding Package from Pandas , Numpy , Seaborn , Matplot, Scikit-learn, Keras, ...`\n",
        "* `Runtime dependencies:  Scikit-learn requires Python>=3.7, Numpy >=1.14.6`\n",
        "* `Describe any prerequisites, libraries, OS version, etc., = Python Lastest version, Needed before installing program`\n",
        "* `How/where to download your program`: \n",
        "* `Any modifications needed to be made to files/folders`:\n",
        "* `Data Source :  Loading [UCI wine dataset from Team's GitHubs](https://bit.ly/3GaUUt0WINE)`\n",
        "---"
      ],
      "metadata": {
        "id": "eqTBtGLqOAQT"
      }
    },
    {
      "cell_type": "markdown",
      "metadata": {
        "id": "LLeV_UqpGPKX"
      },
      "source": [
        "**[☠] PLAN/TASK**\n",
        "\n",
        "**1.) Data Cleansing**  \n",
        "* Our goal is to review the quality of data we collected and identify any problems that have a negative impact on parameter tuning. \n",
        "* This includes imbalances, outliers, noise, nulls, and high correlations between features.\n",
        "* During the preprocessing step, we will add the solution to fix these issues.\n",
        "\n",
        "**2.) Data Preprocessing**\n",
        "* This process is mainly to prepare data to suitable with the model which devlop to slove the problem such as feature scaling, reduce feature to optimize the variable in model\n",
        "\n",
        "**3.) (Hyper) Parameter Tuning**  \n",
        "      > Virtually any type of data analytics, data science or AI development requires some type of data preprocessing to provide reliable, precise and robust results for enterprise applications. \n",
        "* Model layer and Node. \n",
        "* Type of activation function.  \n",
        "* Learning rate and Loss function.\n",
        "* Batch Size and Choosing Epoch."
      ]
    },
    {
      "cell_type": "markdown",
      "metadata": {
        "id": "9sBcU0duGPKk"
      },
      "source": [
        "    **[☠] Setting Up The Environment** \n",
        "    Dependencie code in Python is imported. These lines load modules from four libraries;\n",
        "    * `numpy` - The library for numerical computing in Python\n",
        "    * `pandas` - A library for organizing and manipulating data\n",
        "    * `matplotlib` - A library for plotting\n",
        "    * `sklearn` - Short for scikit-learn, a machine learning toolkit in Python\n",
        "    * `Bunch object` - Container object exposing keys as attributes."
      ]
    },
    {
      "cell_type": "code",
      "source": [
        "#Before compiling a program that uses the same Python version, set the standard.\n",
        "!pip install pyforest"
      ],
      "metadata": {
        "colab": {
          "base_uri": "https://localhost:8080/",
          "height": 0
        },
        "id": "EeyUqxkjrwYJ",
        "outputId": "f4676e8c-478a-4144-8a72-7cb7f8e7c48f"
      },
      "execution_count": 24,
      "outputs": [
        {
          "output_type": "stream",
          "name": "stdout",
          "text": [
            "Requirement already satisfied: pyforest in /usr/local/lib/python3.7/dist-packages (1.1.0)\n"
          ]
        }
      ]
    },
    {
      "cell_type": "code",
      "execution_count": 26,
      "metadata": {
        "id": "ML_G3n8jrpgb"
      },
      "outputs": [],
      "source": [
        "#Set tools for dataframe and management\n",
        "import numpy as np\n",
        "import pandas as pd\n",
        "import matplotlib.pyplot as plt\n",
        "from platform import python_version\n",
        "from sklearn import datasets\n",
        "from sklearn.cluster import KMeans"
      ]
    },
    {
      "cell_type": "code",
      "source": [
        "#Plots tools\n",
        "from sklearn import preprocessing\n",
        "from scipy.spatial.distance import cdist\n",
        "from pandas.plotting import scatter_matrix as sm\n",
        "from matplotlib.patches import Ellipse \n",
        "from platform import python_version\n",
        "import seaborn as sns\n",
        "import matplotlib.pyplot as plt\n",
        "import matplotlib.cm as cm\n",
        "%matplotlib inline"
      ],
      "metadata": {
        "id": "1kEro6_rPYiW"
      },
      "execution_count": 27,
      "outputs": []
    },
    {
      "cell_type": "markdown",
      "source": [
        "  #**[☠] Ploblem Statement**  :  Wine Quality Dataset"
      ],
      "metadata": {
        "id": "xsYeOSjtvtSZ"
      }
    },
    {
      "cell_type": "markdown",
      "source": [
        "    What we aim to accomplish\n",
        "        > This project aims to achieve several objectives, including:\n",
        "        1.   To see which Deep Learning and Machine Learning methods yield the most accurate results, and to get hand dirty tuning them!\n",
        "        2.   In order to determine what feature makes a good wine, use the model answer and discuss what we learn from the exercise.\n",
        "\n",
        "    Thus, here we go!    **⌛Loading** file...."
      ],
      "metadata": {
        "id": "itvSlPSy2u4k"
      }
    },
    {
      "cell_type": "markdown",
      "source": [
        "#**[💀] 1. Import Data & Skim checking**"
      ],
      "metadata": {
        "id": "KmRXm3gq7Y_e"
      }
    },
    {
      "cell_type": "code",
      "execution_count": 28,
      "metadata": {
        "id": "7IUzwZHCGPK_",
        "colab": {
          "base_uri": "https://localhost:8080/",
          "height": 589
        },
        "outputId": "e06bcc46-1389-4bb6-cf71-06a227a5ef36"
      },
      "outputs": [
        {
          "output_type": "stream",
          "name": "stdout",
          "text": [
            "<class 'pandas.core.frame.DataFrame'>\n",
            "RangeIndex: 1599 entries, 0 to 1598\n",
            "Data columns (total 12 columns):\n",
            " #   Column                Non-Null Count  Dtype  \n",
            "---  ------                --------------  -----  \n",
            " 0   fixed acidity         1599 non-null   float64\n",
            " 1   volatile acidity      1599 non-null   float64\n",
            " 2   citric acid           1599 non-null   float64\n",
            " 3   residual sugar        1599 non-null   float64\n",
            " 4   chlorides             1599 non-null   float64\n",
            " 5   free sulfur dioxide   1599 non-null   float64\n",
            " 6   total sulfur dioxide  1599 non-null   float64\n",
            " 7   density               1599 non-null   float64\n",
            " 8   pH                    1599 non-null   float64\n",
            " 9   sulphates             1599 non-null   float64\n",
            " 10  alcohol               1599 non-null   float64\n",
            " 11  Y                     1599 non-null   int64  \n",
            "dtypes: float64(11), int64(1)\n",
            "memory usage: 150.0 KB\n"
          ]
        },
        {
          "output_type": "execute_result",
          "data": {
            "application/vnd.google.colaboratory.module+javascript": "\n      import \"https://ssl.gstatic.com/colaboratory/data_table/81f25a011006ed3d/data_table.js\";\n\n      window.createDataTable({\n        data: [[{\n            'v': 696,\n            'f': \"696\",\n        },\n{\n            'v': 7.0,\n            'f': \"7.0\",\n        },\n{\n            'v': 0.65,\n            'f': \"0.65\",\n        },\n{\n            'v': 0.02,\n            'f': \"0.02\",\n        },\n{\n            'v': 2.1,\n            'f': \"2.1\",\n        },\n{\n            'v': 0.066,\n            'f': \"0.066\",\n        },\n{\n            'v': 8.0,\n            'f': \"8.0\",\n        },\n{\n            'v': 25.0,\n            'f': \"25.0\",\n        },\n{\n            'v': 0.9972,\n            'f': \"0.9972\",\n        },\n{\n            'v': 3.47,\n            'f': \"3.47\",\n        },\n{\n            'v': 0.67,\n            'f': \"0.67\",\n        },\n{\n            'v': 9.5,\n            'f': \"9.5\",\n        },\n{\n            'v': 6,\n            'f': \"6\",\n        }],\n [{\n            'v': 658,\n            'f': \"658\",\n        },\n{\n            'v': 7.2,\n            'f': \"7.2\",\n        },\n{\n            'v': 0.52,\n            'f': \"0.52\",\n        },\n{\n            'v': 0.07,\n            'f': \"0.07\",\n        },\n{\n            'v': 1.4,\n            'f': \"1.4\",\n        },\n{\n            'v': 0.074,\n            'f': \"0.074\",\n        },\n{\n            'v': 5.0,\n            'f': \"5.0\",\n        },\n{\n            'v': 20.0,\n            'f': \"20.0\",\n        },\n{\n            'v': 0.9973,\n            'f': \"0.9973\",\n        },\n{\n            'v': 3.32,\n            'f': \"3.32\",\n        },\n{\n            'v': 0.81,\n            'f': \"0.81\",\n        },\n{\n            'v': 9.6,\n            'f': \"9.6\",\n        },\n{\n            'v': 6,\n            'f': \"6\",\n        }],\n [{\n            'v': 1464,\n            'f': \"1464\",\n        },\n{\n            'v': 6.8,\n            'f': \"6.8\",\n        },\n{\n            'v': 0.59,\n            'f': \"0.59\",\n        },\n{\n            'v': 0.1,\n            'f': \"0.1\",\n        },\n{\n            'v': 1.7,\n            'f': \"1.7\",\n        },\n{\n            'v': 0.063,\n            'f': \"0.063\",\n        },\n{\n            'v': 34.0,\n            'f': \"34.0\",\n        },\n{\n            'v': 53.0,\n            'f': \"53.0\",\n        },\n{\n            'v': 0.9958,\n            'f': \"0.9958\",\n        },\n{\n            'v': 3.41,\n            'f': \"3.41\",\n        },\n{\n            'v': 0.67,\n            'f': \"0.67\",\n        },\n{\n            'v': 9.7,\n            'f': \"9.7\",\n        },\n{\n            'v': 5,\n            'f': \"5\",\n        }],\n [{\n            'v': 453,\n            'f': \"453\",\n        },\n{\n            'v': 10.4,\n            'f': \"10.4\",\n        },\n{\n            'v': 0.33,\n            'f': \"0.33\",\n        },\n{\n            'v': 0.63,\n            'f': \"0.63\",\n        },\n{\n            'v': 2.8,\n            'f': \"2.8\",\n        },\n{\n            'v': 0.084,\n            'f': \"0.084\",\n        },\n{\n            'v': 5.0,\n            'f': \"5.0\",\n        },\n{\n            'v': 22.0,\n            'f': \"22.0\",\n        },\n{\n            'v': 0.9998,\n            'f': \"0.9998\",\n        },\n{\n            'v': 3.26,\n            'f': \"3.26\",\n        },\n{\n            'v': 0.74,\n            'f': \"0.74\",\n        },\n{\n            'v': 11.2,\n            'f': \"11.2\",\n        },\n{\n            'v': 7,\n            'f': \"7\",\n        }],\n [{\n            'v': 80,\n            'f': \"80\",\n        },\n{\n            'v': 6.2,\n            'f': \"6.2\",\n        },\n{\n            'v': 0.45,\n            'f': \"0.45\",\n        },\n{\n            'v': 0.2,\n            'f': \"0.2\",\n        },\n{\n            'v': 1.6,\n            'f': \"1.6\",\n        },\n{\n            'v': 0.069,\n            'f': \"0.069\",\n        },\n{\n            'v': 3.0,\n            'f': \"3.0\",\n        },\n{\n            'v': 15.0,\n            'f': \"15.0\",\n        },\n{\n            'v': 0.9958,\n            'f': \"0.9958\",\n        },\n{\n            'v': 3.41,\n            'f': \"3.41\",\n        },\n{\n            'v': 0.56,\n            'f': \"0.56\",\n        },\n{\n            'v': 9.2,\n            'f': \"9.2\",\n        },\n{\n            'v': 5,\n            'f': \"5\",\n        }],\n [{\n            'v': 1575,\n            'f': \"1575\",\n        },\n{\n            'v': 7.5,\n            'f': \"7.5\",\n        },\n{\n            'v': 0.52,\n            'f': \"0.52\",\n        },\n{\n            'v': 0.4,\n            'f': \"0.4\",\n        },\n{\n            'v': 2.2,\n            'f': \"2.2\",\n        },\n{\n            'v': 0.06,\n            'f': \"0.06\",\n        },\n{\n            'v': 12.0,\n            'f': \"12.0\",\n        },\n{\n            'v': 20.0,\n            'f': \"20.0\",\n        },\n{\n            'v': 0.99474,\n            'f': \"0.99474\",\n        },\n{\n            'v': 3.26,\n            'f': \"3.26\",\n        },\n{\n            'v': 0.64,\n            'f': \"0.64\",\n        },\n{\n            'v': 11.8,\n            'f': \"11.8\",\n        },\n{\n            'v': 6,\n            'f': \"6\",\n        }],\n [{\n            'v': 1248,\n            'f': \"1248\",\n        },\n{\n            'v': 6.9,\n            'f': \"6.9\",\n        },\n{\n            'v': 0.41,\n            'f': \"0.41\",\n        },\n{\n            'v': 0.33,\n            'f': \"0.33\",\n        },\n{\n            'v': 2.2,\n            'f': \"2.2\",\n        },\n{\n            'v': 0.081,\n            'f': \"0.081\",\n        },\n{\n            'v': 22.0,\n            'f': \"22.0\",\n        },\n{\n            'v': 36.0,\n            'f': \"36.0\",\n        },\n{\n            'v': 0.9949,\n            'f': \"0.9949\",\n        },\n{\n            'v': 3.41,\n            'f': \"3.41\",\n        },\n{\n            'v': 0.75,\n            'f': \"0.75\",\n        },\n{\n            'v': 11.1,\n            'f': \"11.1\",\n        },\n{\n            'v': 6,\n            'f': \"6\",\n        }],\n [{\n            'v': 1011,\n            'f': \"1011\",\n        },\n{\n            'v': 8.9,\n            'f': \"8.9\",\n        },\n{\n            'v': 0.32,\n            'f': \"0.32\",\n        },\n{\n            'v': 0.31,\n            'f': \"0.31\",\n        },\n{\n            'v': 2.0,\n            'f': \"2.0\",\n        },\n{\n            'v': 0.088,\n            'f': \"0.088\",\n        },\n{\n            'v': 12.0,\n            'f': \"12.0\",\n        },\n{\n            'v': 19.0,\n            'f': \"19.0\",\n        },\n{\n            'v': 0.9957,\n            'f': \"0.9957\",\n        },\n{\n            'v': 3.17,\n            'f': \"3.17\",\n        },\n{\n            'v': 0.55,\n            'f': \"0.55\",\n        },\n{\n            'v': 10.4,\n            'f': \"10.4\",\n        },\n{\n            'v': 6,\n            'f': \"6\",\n        }]],\n        columns: [[\"number\", \"index\"], [\"number\", \"fixed acidity\"], [\"number\", \"volatile acidity\"], [\"number\", \"citric acid\"], [\"number\", \"residual sugar\"], [\"number\", \"chlorides\"], [\"number\", \"free sulfur dioxide\"], [\"number\", \"total sulfur dioxide\"], [\"number\", \"density\"], [\"number\", \"pH\"], [\"number\", \"sulphates\"], [\"number\", \"alcohol\"], [\"number\", \"Y\"]],\n        columnOptions: [{\"width\": \"1px\", \"className\": \"index_column\"}],\n        rowsPerPage: 25,\n        helpUrl: \"https://colab.research.google.com/notebooks/data_table.ipynb\",\n        suppressOutputScrolling: true,\n        minimumWidth: undefined,\n      });\n    ",
            "text/html": [
              "\n",
              "  <div id=\"df-c181d1a4-b2bc-41ef-bcda-9263fd87238b\">\n",
              "    <div class=\"colab-df-container\">\n",
              "      <div>\n",
              "<style scoped>\n",
              "    .dataframe tbody tr th:only-of-type {\n",
              "        vertical-align: middle;\n",
              "    }\n",
              "\n",
              "    .dataframe tbody tr th {\n",
              "        vertical-align: top;\n",
              "    }\n",
              "\n",
              "    .dataframe thead th {\n",
              "        text-align: right;\n",
              "    }\n",
              "</style>\n",
              "<table border=\"1\" class=\"dataframe\">\n",
              "  <thead>\n",
              "    <tr style=\"text-align: right;\">\n",
              "      <th></th>\n",
              "      <th>fixed acidity</th>\n",
              "      <th>volatile acidity</th>\n",
              "      <th>citric acid</th>\n",
              "      <th>residual sugar</th>\n",
              "      <th>chlorides</th>\n",
              "      <th>free sulfur dioxide</th>\n",
              "      <th>total sulfur dioxide</th>\n",
              "      <th>density</th>\n",
              "      <th>pH</th>\n",
              "      <th>sulphates</th>\n",
              "      <th>alcohol</th>\n",
              "      <th>Y</th>\n",
              "    </tr>\n",
              "  </thead>\n",
              "  <tbody>\n",
              "    <tr>\n",
              "      <th>696</th>\n",
              "      <td>7.0</td>\n",
              "      <td>0.65</td>\n",
              "      <td>0.02</td>\n",
              "      <td>2.1</td>\n",
              "      <td>0.066</td>\n",
              "      <td>8.0</td>\n",
              "      <td>25.0</td>\n",
              "      <td>0.99720</td>\n",
              "      <td>3.47</td>\n",
              "      <td>0.67</td>\n",
              "      <td>9.5</td>\n",
              "      <td>6</td>\n",
              "    </tr>\n",
              "    <tr>\n",
              "      <th>658</th>\n",
              "      <td>7.2</td>\n",
              "      <td>0.52</td>\n",
              "      <td>0.07</td>\n",
              "      <td>1.4</td>\n",
              "      <td>0.074</td>\n",
              "      <td>5.0</td>\n",
              "      <td>20.0</td>\n",
              "      <td>0.99730</td>\n",
              "      <td>3.32</td>\n",
              "      <td>0.81</td>\n",
              "      <td>9.6</td>\n",
              "      <td>6</td>\n",
              "    </tr>\n",
              "    <tr>\n",
              "      <th>1464</th>\n",
              "      <td>6.8</td>\n",
              "      <td>0.59</td>\n",
              "      <td>0.10</td>\n",
              "      <td>1.7</td>\n",
              "      <td>0.063</td>\n",
              "      <td>34.0</td>\n",
              "      <td>53.0</td>\n",
              "      <td>0.99580</td>\n",
              "      <td>3.41</td>\n",
              "      <td>0.67</td>\n",
              "      <td>9.7</td>\n",
              "      <td>5</td>\n",
              "    </tr>\n",
              "    <tr>\n",
              "      <th>453</th>\n",
              "      <td>10.4</td>\n",
              "      <td>0.33</td>\n",
              "      <td>0.63</td>\n",
              "      <td>2.8</td>\n",
              "      <td>0.084</td>\n",
              "      <td>5.0</td>\n",
              "      <td>22.0</td>\n",
              "      <td>0.99980</td>\n",
              "      <td>3.26</td>\n",
              "      <td>0.74</td>\n",
              "      <td>11.2</td>\n",
              "      <td>7</td>\n",
              "    </tr>\n",
              "    <tr>\n",
              "      <th>80</th>\n",
              "      <td>6.2</td>\n",
              "      <td>0.45</td>\n",
              "      <td>0.20</td>\n",
              "      <td>1.6</td>\n",
              "      <td>0.069</td>\n",
              "      <td>3.0</td>\n",
              "      <td>15.0</td>\n",
              "      <td>0.99580</td>\n",
              "      <td>3.41</td>\n",
              "      <td>0.56</td>\n",
              "      <td>9.2</td>\n",
              "      <td>5</td>\n",
              "    </tr>\n",
              "    <tr>\n",
              "      <th>1575</th>\n",
              "      <td>7.5</td>\n",
              "      <td>0.52</td>\n",
              "      <td>0.40</td>\n",
              "      <td>2.2</td>\n",
              "      <td>0.060</td>\n",
              "      <td>12.0</td>\n",
              "      <td>20.0</td>\n",
              "      <td>0.99474</td>\n",
              "      <td>3.26</td>\n",
              "      <td>0.64</td>\n",
              "      <td>11.8</td>\n",
              "      <td>6</td>\n",
              "    </tr>\n",
              "    <tr>\n",
              "      <th>1248</th>\n",
              "      <td>6.9</td>\n",
              "      <td>0.41</td>\n",
              "      <td>0.33</td>\n",
              "      <td>2.2</td>\n",
              "      <td>0.081</td>\n",
              "      <td>22.0</td>\n",
              "      <td>36.0</td>\n",
              "      <td>0.99490</td>\n",
              "      <td>3.41</td>\n",
              "      <td>0.75</td>\n",
              "      <td>11.1</td>\n",
              "      <td>6</td>\n",
              "    </tr>\n",
              "    <tr>\n",
              "      <th>1011</th>\n",
              "      <td>8.9</td>\n",
              "      <td>0.32</td>\n",
              "      <td>0.31</td>\n",
              "      <td>2.0</td>\n",
              "      <td>0.088</td>\n",
              "      <td>12.0</td>\n",
              "      <td>19.0</td>\n",
              "      <td>0.99570</td>\n",
              "      <td>3.17</td>\n",
              "      <td>0.55</td>\n",
              "      <td>10.4</td>\n",
              "      <td>6</td>\n",
              "    </tr>\n",
              "  </tbody>\n",
              "</table>\n",
              "</div>\n",
              "      <button class=\"colab-df-convert\" onclick=\"convertToInteractive('df-c181d1a4-b2bc-41ef-bcda-9263fd87238b')\"\n",
              "              title=\"Convert this dataframe to an interactive table.\"\n",
              "              style=\"display:none;\">\n",
              "        \n",
              "  <svg xmlns=\"http://www.w3.org/2000/svg\" height=\"24px\"viewBox=\"0 0 24 24\"\n",
              "       width=\"24px\">\n",
              "    <path d=\"M0 0h24v24H0V0z\" fill=\"none\"/>\n",
              "    <path d=\"M18.56 5.44l.94 2.06.94-2.06 2.06-.94-2.06-.94-.94-2.06-.94 2.06-2.06.94zm-11 1L8.5 8.5l.94-2.06 2.06-.94-2.06-.94L8.5 2.5l-.94 2.06-2.06.94zm10 10l.94 2.06.94-2.06 2.06-.94-2.06-.94-.94-2.06-.94 2.06-2.06.94z\"/><path d=\"M17.41 7.96l-1.37-1.37c-.4-.4-.92-.59-1.43-.59-.52 0-1.04.2-1.43.59L10.3 9.45l-7.72 7.72c-.78.78-.78 2.05 0 2.83L4 21.41c.39.39.9.59 1.41.59.51 0 1.02-.2 1.41-.59l7.78-7.78 2.81-2.81c.8-.78.8-2.07 0-2.86zM5.41 20L4 18.59l7.72-7.72 1.47 1.35L5.41 20z\"/>\n",
              "  </svg>\n",
              "      </button>\n",
              "      \n",
              "  <style>\n",
              "    .colab-df-container {\n",
              "      display:flex;\n",
              "      flex-wrap:wrap;\n",
              "      gap: 12px;\n",
              "    }\n",
              "\n",
              "    .colab-df-convert {\n",
              "      background-color: #E8F0FE;\n",
              "      border: none;\n",
              "      border-radius: 50%;\n",
              "      cursor: pointer;\n",
              "      display: none;\n",
              "      fill: #1967D2;\n",
              "      height: 32px;\n",
              "      padding: 0 0 0 0;\n",
              "      width: 32px;\n",
              "    }\n",
              "\n",
              "    .colab-df-convert:hover {\n",
              "      background-color: #E2EBFA;\n",
              "      box-shadow: 0px 1px 2px rgba(60, 64, 67, 0.3), 0px 1px 3px 1px rgba(60, 64, 67, 0.15);\n",
              "      fill: #174EA6;\n",
              "    }\n",
              "\n",
              "    [theme=dark] .colab-df-convert {\n",
              "      background-color: #3B4455;\n",
              "      fill: #D2E3FC;\n",
              "    }\n",
              "\n",
              "    [theme=dark] .colab-df-convert:hover {\n",
              "      background-color: #434B5C;\n",
              "      box-shadow: 0px 1px 3px 1px rgba(0, 0, 0, 0.15);\n",
              "      filter: drop-shadow(0px 1px 2px rgba(0, 0, 0, 0.3));\n",
              "      fill: #FFFFFF;\n",
              "    }\n",
              "  </style>\n",
              "\n",
              "      <script>\n",
              "        const buttonEl =\n",
              "          document.querySelector('#df-c181d1a4-b2bc-41ef-bcda-9263fd87238b button.colab-df-convert');\n",
              "        buttonEl.style.display =\n",
              "          google.colab.kernel.accessAllowed ? 'block' : 'none';\n",
              "\n",
              "        async function convertToInteractive(key) {\n",
              "          const element = document.querySelector('#df-c181d1a4-b2bc-41ef-bcda-9263fd87238b');\n",
              "          const dataTable =\n",
              "            await google.colab.kernel.invokeFunction('convertToInteractive',\n",
              "                                                     [key], {});\n",
              "          if (!dataTable) return;\n",
              "\n",
              "          const docLinkHtml = 'Like what you see? Visit the ' +\n",
              "            '<a target=\"_blank\" href=https://colab.research.google.com/notebooks/data_table.ipynb>data table notebook</a>'\n",
              "            + ' to learn more about interactive tables.';\n",
              "          element.innerHTML = '';\n",
              "          dataTable['output_type'] = 'display_data';\n",
              "          await google.colab.output.renderOutput(dataTable, element);\n",
              "          const docLink = document.createElement('div');\n",
              "          docLink.innerHTML = docLinkHtml;\n",
              "          element.appendChild(docLink);\n",
              "        }\n",
              "      </script>\n",
              "    </div>\n",
              "  </div>\n",
              "  "
            ],
            "text/plain": [
              "      fixed acidity  volatile acidity  citric acid  ...  sulphates  alcohol  Y\n",
              "696             7.0              0.65         0.02  ...       0.67      9.5  6\n",
              "658             7.2              0.52         0.07  ...       0.81      9.6  6\n",
              "1464            6.8              0.59         0.10  ...       0.67      9.7  5\n",
              "453            10.4              0.33         0.63  ...       0.74     11.2  7\n",
              "80              6.2              0.45         0.20  ...       0.56      9.2  5\n",
              "1575            7.5              0.52         0.40  ...       0.64     11.8  6\n",
              "1248            6.9              0.41         0.33  ...       0.75     11.1  6\n",
              "1011            8.9              0.32         0.31  ...       0.55     10.4  6\n",
              "\n",
              "[8 rows x 12 columns]"
            ]
          },
          "metadata": {},
          "execution_count": 28
        }
      ],
      "source": [
        "urlwq = 'https://raw.githubusercontent.com/khwanck/DeepLearning_NIDA01/main/winequality-red.csv'\n",
        "df = pd.read_csv(urlwq)\n",
        "\n",
        "df.info()\n",
        "#1599 Records   |  #179 Rows   |   #12 variable \n",
        "df.sample(8)"
      ]
    },
    {
      "cell_type": "code",
      "source": [
        "df.info()\n",
        "#1599 Records   |  #179 Rows   |   #12 variable \n",
        "df.sample(8)"
      ],
      "metadata": {
        "colab": {
          "base_uri": "https://localhost:8080/",
          "height": 589
        },
        "id": "3uWTdXJxixG_",
        "outputId": "f980db42-e1d4-4f43-d4f7-eff884debd76"
      },
      "execution_count": 29,
      "outputs": [
        {
          "output_type": "stream",
          "name": "stdout",
          "text": [
            "<class 'pandas.core.frame.DataFrame'>\n",
            "RangeIndex: 1599 entries, 0 to 1598\n",
            "Data columns (total 12 columns):\n",
            " #   Column                Non-Null Count  Dtype  \n",
            "---  ------                --------------  -----  \n",
            " 0   fixed acidity         1599 non-null   float64\n",
            " 1   volatile acidity      1599 non-null   float64\n",
            " 2   citric acid           1599 non-null   float64\n",
            " 3   residual sugar        1599 non-null   float64\n",
            " 4   chlorides             1599 non-null   float64\n",
            " 5   free sulfur dioxide   1599 non-null   float64\n",
            " 6   total sulfur dioxide  1599 non-null   float64\n",
            " 7   density               1599 non-null   float64\n",
            " 8   pH                    1599 non-null   float64\n",
            " 9   sulphates             1599 non-null   float64\n",
            " 10  alcohol               1599 non-null   float64\n",
            " 11  Y                     1599 non-null   int64  \n",
            "dtypes: float64(11), int64(1)\n",
            "memory usage: 150.0 KB\n"
          ]
        },
        {
          "output_type": "execute_result",
          "data": {
            "application/vnd.google.colaboratory.module+javascript": "\n      import \"https://ssl.gstatic.com/colaboratory/data_table/81f25a011006ed3d/data_table.js\";\n\n      window.createDataTable({\n        data: [[{\n            'v': 525,\n            'f': \"525\",\n        },\n{\n            'v': 10.4,\n            'f': \"10.4\",\n        },\n{\n            'v': 0.64,\n            'f': \"0.64\",\n        },\n{\n            'v': 0.24,\n            'f': \"0.24\",\n        },\n{\n            'v': 2.8,\n            'f': \"2.8\",\n        },\n{\n            'v': 0.105,\n            'f': \"0.105\",\n        },\n{\n            'v': 29.0,\n            'f': \"29.0\",\n        },\n{\n            'v': 53.0,\n            'f': \"53.0\",\n        },\n{\n            'v': 0.9998,\n            'f': \"0.9998\",\n        },\n{\n            'v': 3.24,\n            'f': \"3.24\",\n        },\n{\n            'v': 0.67,\n            'f': \"0.67\",\n        },\n{\n            'v': 9.9,\n            'f': \"9.9\",\n        },\n{\n            'v': 5,\n            'f': \"5\",\n        }],\n [{\n            'v': 637,\n            'f': \"637\",\n        },\n{\n            'v': 9.5,\n            'f': \"9.5\",\n        },\n{\n            'v': 0.885,\n            'f': \"0.885\",\n        },\n{\n            'v': 0.27,\n            'f': \"0.27\",\n        },\n{\n            'v': 2.3,\n            'f': \"2.3\",\n        },\n{\n            'v': 0.084,\n            'f': \"0.084\",\n        },\n{\n            'v': 31.0,\n            'f': \"31.0\",\n        },\n{\n            'v': 145.0,\n            'f': \"145.0\",\n        },\n{\n            'v': 0.9978,\n            'f': \"0.9978\",\n        },\n{\n            'v': 3.24,\n            'f': \"3.24\",\n        },\n{\n            'v': 0.53,\n            'f': \"0.53\",\n        },\n{\n            'v': 9.4,\n            'f': \"9.4\",\n        },\n{\n            'v': 5,\n            'f': \"5\",\n        }],\n [{\n            'v': 1363,\n            'f': \"1363\",\n        },\n{\n            'v': 8.0,\n            'f': \"8.0\",\n        },\n{\n            'v': 0.83,\n            'f': \"0.83\",\n        },\n{\n            'v': 0.27,\n            'f': \"0.27\",\n        },\n{\n            'v': 2.0,\n            'f': \"2.0\",\n        },\n{\n            'v': 0.08,\n            'f': \"0.08\",\n        },\n{\n            'v': 11.0,\n            'f': \"11.0\",\n        },\n{\n            'v': 63.0,\n            'f': \"63.0\",\n        },\n{\n            'v': 0.99652,\n            'f': \"0.99652\",\n        },\n{\n            'v': 3.29,\n            'f': \"3.29\",\n        },\n{\n            'v': 0.48,\n            'f': \"0.48\",\n        },\n{\n            'v': 9.8,\n            'f': \"9.8\",\n        },\n{\n            'v': 4,\n            'f': \"4\",\n        }],\n [{\n            'v': 489,\n            'f': \"489\",\n        },\n{\n            'v': 9.3,\n            'f': \"9.3\",\n        },\n{\n            'v': 0.39,\n            'f': \"0.39\",\n        },\n{\n            'v': 0.4,\n            'f': \"0.4\",\n        },\n{\n            'v': 2.6,\n            'f': \"2.6\",\n        },\n{\n            'v': 0.073,\n            'f': \"0.073\",\n        },\n{\n            'v': 10.0,\n            'f': \"10.0\",\n        },\n{\n            'v': 26.0,\n            'f': \"26.0\",\n        },\n{\n            'v': 0.9984,\n            'f': \"0.9984\",\n        },\n{\n            'v': 3.34,\n            'f': \"3.34\",\n        },\n{\n            'v': 0.75,\n            'f': \"0.75\",\n        },\n{\n            'v': 10.2,\n            'f': \"10.2\",\n        },\n{\n            'v': 6,\n            'f': \"6\",\n        }],\n [{\n            'v': 1116,\n            'f': \"1116\",\n        },\n{\n            'v': 7.0,\n            'f': \"7.0\",\n        },\n{\n            'v': 0.69,\n            'f': \"0.69\",\n        },\n{\n            'v': 0.07,\n            'f': \"0.07\",\n        },\n{\n            'v': 2.5,\n            'f': \"2.5\",\n        },\n{\n            'v': 0.091,\n            'f': \"0.091\",\n        },\n{\n            'v': 15.0,\n            'f': \"15.0\",\n        },\n{\n            'v': 21.0,\n            'f': \"21.0\",\n        },\n{\n            'v': 0.99572,\n            'f': \"0.99572\",\n        },\n{\n            'v': 3.38,\n            'f': \"3.38\",\n        },\n{\n            'v': 0.6,\n            'f': \"0.6\",\n        },\n{\n            'v': 11.3,\n            'f': \"11.3\",\n        },\n{\n            'v': 6,\n            'f': \"6\",\n        }],\n [{\n            'v': 438,\n            'f': \"438\",\n        },\n{\n            'v': 10.4,\n            'f': \"10.4\",\n        },\n{\n            'v': 0.41,\n            'f': \"0.41\",\n        },\n{\n            'v': 0.55,\n            'f': \"0.55\",\n        },\n{\n            'v': 3.2,\n            'f': \"3.2\",\n        },\n{\n            'v': 0.076,\n            'f': \"0.076\",\n        },\n{\n            'v': 22.0,\n            'f': \"22.0\",\n        },\n{\n            'v': 54.0,\n            'f': \"54.0\",\n        },\n{\n            'v': 0.9996,\n            'f': \"0.9996\",\n        },\n{\n            'v': 3.15,\n            'f': \"3.15\",\n        },\n{\n            'v': 0.89,\n            'f': \"0.89\",\n        },\n{\n            'v': 9.9,\n            'f': \"9.9\",\n        },\n{\n            'v': 6,\n            'f': \"6\",\n        }],\n [{\n            'v': 1561,\n            'f': \"1561\",\n        },\n{\n            'v': 7.8,\n            'f': \"7.8\",\n        },\n{\n            'v': 0.6,\n            'f': \"0.6\",\n        },\n{\n            'v': 0.26,\n            'f': \"0.26\",\n        },\n{\n            'v': 2.0,\n            'f': \"2.0\",\n        },\n{\n            'v': 0.08,\n            'f': \"0.08\",\n        },\n{\n            'v': 31.0,\n            'f': \"31.0\",\n        },\n{\n            'v': 131.0,\n            'f': \"131.0\",\n        },\n{\n            'v': 0.99622,\n            'f': \"0.99622\",\n        },\n{\n            'v': 3.21,\n            'f': \"3.21\",\n        },\n{\n            'v': 0.52,\n            'f': \"0.52\",\n        },\n{\n            'v': 9.9,\n            'f': \"9.9\",\n        },\n{\n            'v': 5,\n            'f': \"5\",\n        }],\n [{\n            'v': 649,\n            'f': \"649\",\n        },\n{\n            'v': 6.7,\n            'f': \"6.7\",\n        },\n{\n            'v': 0.42,\n            'f': \"0.42\",\n        },\n{\n            'v': 0.27,\n            'f': \"0.27\",\n        },\n{\n            'v': 8.6,\n            'f': \"8.6\",\n        },\n{\n            'v': 0.068,\n            'f': \"0.068\",\n        },\n{\n            'v': 24.0,\n            'f': \"24.0\",\n        },\n{\n            'v': 148.0,\n            'f': \"148.0\",\n        },\n{\n            'v': 0.9948,\n            'f': \"0.9948\",\n        },\n{\n            'v': 3.16,\n            'f': \"3.16\",\n        },\n{\n            'v': 0.57,\n            'f': \"0.57\",\n        },\n{\n            'v': 11.3,\n            'f': \"11.3\",\n        },\n{\n            'v': 6,\n            'f': \"6\",\n        }]],\n        columns: [[\"number\", \"index\"], [\"number\", \"fixed acidity\"], [\"number\", \"volatile acidity\"], [\"number\", \"citric acid\"], [\"number\", \"residual sugar\"], [\"number\", \"chlorides\"], [\"number\", \"free sulfur dioxide\"], [\"number\", \"total sulfur dioxide\"], [\"number\", \"density\"], [\"number\", \"pH\"], [\"number\", \"sulphates\"], [\"number\", \"alcohol\"], [\"number\", \"Y\"]],\n        columnOptions: [{\"width\": \"1px\", \"className\": \"index_column\"}],\n        rowsPerPage: 25,\n        helpUrl: \"https://colab.research.google.com/notebooks/data_table.ipynb\",\n        suppressOutputScrolling: true,\n        minimumWidth: undefined,\n      });\n    ",
            "text/html": [
              "\n",
              "  <div id=\"df-9a569cb6-6244-48a0-b86c-afc3bacba6cd\">\n",
              "    <div class=\"colab-df-container\">\n",
              "      <div>\n",
              "<style scoped>\n",
              "    .dataframe tbody tr th:only-of-type {\n",
              "        vertical-align: middle;\n",
              "    }\n",
              "\n",
              "    .dataframe tbody tr th {\n",
              "        vertical-align: top;\n",
              "    }\n",
              "\n",
              "    .dataframe thead th {\n",
              "        text-align: right;\n",
              "    }\n",
              "</style>\n",
              "<table border=\"1\" class=\"dataframe\">\n",
              "  <thead>\n",
              "    <tr style=\"text-align: right;\">\n",
              "      <th></th>\n",
              "      <th>fixed acidity</th>\n",
              "      <th>volatile acidity</th>\n",
              "      <th>citric acid</th>\n",
              "      <th>residual sugar</th>\n",
              "      <th>chlorides</th>\n",
              "      <th>free sulfur dioxide</th>\n",
              "      <th>total sulfur dioxide</th>\n",
              "      <th>density</th>\n",
              "      <th>pH</th>\n",
              "      <th>sulphates</th>\n",
              "      <th>alcohol</th>\n",
              "      <th>Y</th>\n",
              "    </tr>\n",
              "  </thead>\n",
              "  <tbody>\n",
              "    <tr>\n",
              "      <th>525</th>\n",
              "      <td>10.4</td>\n",
              "      <td>0.640</td>\n",
              "      <td>0.24</td>\n",
              "      <td>2.8</td>\n",
              "      <td>0.105</td>\n",
              "      <td>29.0</td>\n",
              "      <td>53.0</td>\n",
              "      <td>0.99980</td>\n",
              "      <td>3.24</td>\n",
              "      <td>0.67</td>\n",
              "      <td>9.9</td>\n",
              "      <td>5</td>\n",
              "    </tr>\n",
              "    <tr>\n",
              "      <th>637</th>\n",
              "      <td>9.5</td>\n",
              "      <td>0.885</td>\n",
              "      <td>0.27</td>\n",
              "      <td>2.3</td>\n",
              "      <td>0.084</td>\n",
              "      <td>31.0</td>\n",
              "      <td>145.0</td>\n",
              "      <td>0.99780</td>\n",
              "      <td>3.24</td>\n",
              "      <td>0.53</td>\n",
              "      <td>9.4</td>\n",
              "      <td>5</td>\n",
              "    </tr>\n",
              "    <tr>\n",
              "      <th>1363</th>\n",
              "      <td>8.0</td>\n",
              "      <td>0.830</td>\n",
              "      <td>0.27</td>\n",
              "      <td>2.0</td>\n",
              "      <td>0.080</td>\n",
              "      <td>11.0</td>\n",
              "      <td>63.0</td>\n",
              "      <td>0.99652</td>\n",
              "      <td>3.29</td>\n",
              "      <td>0.48</td>\n",
              "      <td>9.8</td>\n",
              "      <td>4</td>\n",
              "    </tr>\n",
              "    <tr>\n",
              "      <th>489</th>\n",
              "      <td>9.3</td>\n",
              "      <td>0.390</td>\n",
              "      <td>0.40</td>\n",
              "      <td>2.6</td>\n",
              "      <td>0.073</td>\n",
              "      <td>10.0</td>\n",
              "      <td>26.0</td>\n",
              "      <td>0.99840</td>\n",
              "      <td>3.34</td>\n",
              "      <td>0.75</td>\n",
              "      <td>10.2</td>\n",
              "      <td>6</td>\n",
              "    </tr>\n",
              "    <tr>\n",
              "      <th>1116</th>\n",
              "      <td>7.0</td>\n",
              "      <td>0.690</td>\n",
              "      <td>0.07</td>\n",
              "      <td>2.5</td>\n",
              "      <td>0.091</td>\n",
              "      <td>15.0</td>\n",
              "      <td>21.0</td>\n",
              "      <td>0.99572</td>\n",
              "      <td>3.38</td>\n",
              "      <td>0.60</td>\n",
              "      <td>11.3</td>\n",
              "      <td>6</td>\n",
              "    </tr>\n",
              "    <tr>\n",
              "      <th>438</th>\n",
              "      <td>10.4</td>\n",
              "      <td>0.410</td>\n",
              "      <td>0.55</td>\n",
              "      <td>3.2</td>\n",
              "      <td>0.076</td>\n",
              "      <td>22.0</td>\n",
              "      <td>54.0</td>\n",
              "      <td>0.99960</td>\n",
              "      <td>3.15</td>\n",
              "      <td>0.89</td>\n",
              "      <td>9.9</td>\n",
              "      <td>6</td>\n",
              "    </tr>\n",
              "    <tr>\n",
              "      <th>1561</th>\n",
              "      <td>7.8</td>\n",
              "      <td>0.600</td>\n",
              "      <td>0.26</td>\n",
              "      <td>2.0</td>\n",
              "      <td>0.080</td>\n",
              "      <td>31.0</td>\n",
              "      <td>131.0</td>\n",
              "      <td>0.99622</td>\n",
              "      <td>3.21</td>\n",
              "      <td>0.52</td>\n",
              "      <td>9.9</td>\n",
              "      <td>5</td>\n",
              "    </tr>\n",
              "    <tr>\n",
              "      <th>649</th>\n",
              "      <td>6.7</td>\n",
              "      <td>0.420</td>\n",
              "      <td>0.27</td>\n",
              "      <td>8.6</td>\n",
              "      <td>0.068</td>\n",
              "      <td>24.0</td>\n",
              "      <td>148.0</td>\n",
              "      <td>0.99480</td>\n",
              "      <td>3.16</td>\n",
              "      <td>0.57</td>\n",
              "      <td>11.3</td>\n",
              "      <td>6</td>\n",
              "    </tr>\n",
              "  </tbody>\n",
              "</table>\n",
              "</div>\n",
              "      <button class=\"colab-df-convert\" onclick=\"convertToInteractive('df-9a569cb6-6244-48a0-b86c-afc3bacba6cd')\"\n",
              "              title=\"Convert this dataframe to an interactive table.\"\n",
              "              style=\"display:none;\">\n",
              "        \n",
              "  <svg xmlns=\"http://www.w3.org/2000/svg\" height=\"24px\"viewBox=\"0 0 24 24\"\n",
              "       width=\"24px\">\n",
              "    <path d=\"M0 0h24v24H0V0z\" fill=\"none\"/>\n",
              "    <path d=\"M18.56 5.44l.94 2.06.94-2.06 2.06-.94-2.06-.94-.94-2.06-.94 2.06-2.06.94zm-11 1L8.5 8.5l.94-2.06 2.06-.94-2.06-.94L8.5 2.5l-.94 2.06-2.06.94zm10 10l.94 2.06.94-2.06 2.06-.94-2.06-.94-.94-2.06-.94 2.06-2.06.94z\"/><path d=\"M17.41 7.96l-1.37-1.37c-.4-.4-.92-.59-1.43-.59-.52 0-1.04.2-1.43.59L10.3 9.45l-7.72 7.72c-.78.78-.78 2.05 0 2.83L4 21.41c.39.39.9.59 1.41.59.51 0 1.02-.2 1.41-.59l7.78-7.78 2.81-2.81c.8-.78.8-2.07 0-2.86zM5.41 20L4 18.59l7.72-7.72 1.47 1.35L5.41 20z\"/>\n",
              "  </svg>\n",
              "      </button>\n",
              "      \n",
              "  <style>\n",
              "    .colab-df-container {\n",
              "      display:flex;\n",
              "      flex-wrap:wrap;\n",
              "      gap: 12px;\n",
              "    }\n",
              "\n",
              "    .colab-df-convert {\n",
              "      background-color: #E8F0FE;\n",
              "      border: none;\n",
              "      border-radius: 50%;\n",
              "      cursor: pointer;\n",
              "      display: none;\n",
              "      fill: #1967D2;\n",
              "      height: 32px;\n",
              "      padding: 0 0 0 0;\n",
              "      width: 32px;\n",
              "    }\n",
              "\n",
              "    .colab-df-convert:hover {\n",
              "      background-color: #E2EBFA;\n",
              "      box-shadow: 0px 1px 2px rgba(60, 64, 67, 0.3), 0px 1px 3px 1px rgba(60, 64, 67, 0.15);\n",
              "      fill: #174EA6;\n",
              "    }\n",
              "\n",
              "    [theme=dark] .colab-df-convert {\n",
              "      background-color: #3B4455;\n",
              "      fill: #D2E3FC;\n",
              "    }\n",
              "\n",
              "    [theme=dark] .colab-df-convert:hover {\n",
              "      background-color: #434B5C;\n",
              "      box-shadow: 0px 1px 3px 1px rgba(0, 0, 0, 0.15);\n",
              "      filter: drop-shadow(0px 1px 2px rgba(0, 0, 0, 0.3));\n",
              "      fill: #FFFFFF;\n",
              "    }\n",
              "  </style>\n",
              "\n",
              "      <script>\n",
              "        const buttonEl =\n",
              "          document.querySelector('#df-9a569cb6-6244-48a0-b86c-afc3bacba6cd button.colab-df-convert');\n",
              "        buttonEl.style.display =\n",
              "          google.colab.kernel.accessAllowed ? 'block' : 'none';\n",
              "\n",
              "        async function convertToInteractive(key) {\n",
              "          const element = document.querySelector('#df-9a569cb6-6244-48a0-b86c-afc3bacba6cd');\n",
              "          const dataTable =\n",
              "            await google.colab.kernel.invokeFunction('convertToInteractive',\n",
              "                                                     [key], {});\n",
              "          if (!dataTable) return;\n",
              "\n",
              "          const docLinkHtml = 'Like what you see? Visit the ' +\n",
              "            '<a target=\"_blank\" href=https://colab.research.google.com/notebooks/data_table.ipynb>data table notebook</a>'\n",
              "            + ' to learn more about interactive tables.';\n",
              "          element.innerHTML = '';\n",
              "          dataTable['output_type'] = 'display_data';\n",
              "          await google.colab.output.renderOutput(dataTable, element);\n",
              "          const docLink = document.createElement('div');\n",
              "          docLink.innerHTML = docLinkHtml;\n",
              "          element.appendChild(docLink);\n",
              "        }\n",
              "      </script>\n",
              "    </div>\n",
              "  </div>\n",
              "  "
            ],
            "text/plain": [
              "      fixed acidity  volatile acidity  citric acid  ...  sulphates  alcohol  Y\n",
              "525            10.4             0.640         0.24  ...       0.67      9.9  5\n",
              "637             9.5             0.885         0.27  ...       0.53      9.4  5\n",
              "1363            8.0             0.830         0.27  ...       0.48      9.8  4\n",
              "489             9.3             0.390         0.40  ...       0.75     10.2  6\n",
              "1116            7.0             0.690         0.07  ...       0.60     11.3  6\n",
              "438            10.4             0.410         0.55  ...       0.89      9.9  6\n",
              "1561            7.8             0.600         0.26  ...       0.52      9.9  5\n",
              "649             6.7             0.420         0.27  ...       0.57     11.3  6\n",
              "\n",
              "[8 rows x 12 columns]"
            ]
          },
          "metadata": {},
          "execution_count": 29
        }
      ]
    },
    {
      "cell_type": "markdown",
      "source": [
        "✅Skim Pass :=) The downloaded data corresponds to the script stated.\n",
        "\n",
        " *Try to find something?    Call your buddy,    Now Baby Stat Turn!*\n",
        "\n",
        "✅Look at  the table  :=) Check Shape"
      ],
      "metadata": {
        "id": "YVT-tav8sMzH"
      }
    },
    {
      "cell_type": "code",
      "source": [
        "#Data Table Display\n",
        "from google.colab import data_table\n",
        "\n",
        "data_table.enable_dataframe_formatter()\n",
        "\n",
        "data_table.DataTable(df.head(), include_index=False, num_rows_per_page=20)\n",
        "\n",
        "\n",
        "df.shape"
      ],
      "metadata": {
        "colab": {
          "base_uri": "https://localhost:8080/",
          "height": 0
        },
        "id": "xQWrAiUmzth9",
        "outputId": "55018e16-5cb1-48c8-bebc-6daad5e9c49b"
      },
      "execution_count": 30,
      "outputs": [
        {
          "output_type": "execute_result",
          "data": {
            "text/plain": [
              "(1599, 12)"
            ]
          },
          "metadata": {},
          "execution_count": 30
        }
      ]
    },
    {
      "cell_type": "markdown",
      "source": [
        "✅Look at  the table  :=) Imcompleted Data \n",
        "    > Missing Value?, Null?, Duplicate?"
      ],
      "metadata": {
        "id": "JLkAQKuvxsum"
      }
    },
    {
      "cell_type": "code",
      "source": [
        "# %Missing Values\n",
        "print(df.isna().sum())\n",
        "\n",
        "df.isnull().sum() / df.shape[0] * 100"
      ],
      "metadata": {
        "colab": {
          "base_uri": "https://localhost:8080/",
          "height": 0
        },
        "id": "LBrSGjkADoun",
        "outputId": "d287516f-5299-4346-dfc6-c1cdeb52aa72"
      },
      "execution_count": 31,
      "outputs": [
        {
          "output_type": "stream",
          "name": "stdout",
          "text": [
            "fixed acidity           0\n",
            "volatile acidity        0\n",
            "citric acid             0\n",
            "residual sugar          0\n",
            "chlorides               0\n",
            "free sulfur dioxide     0\n",
            "total sulfur dioxide    0\n",
            "density                 0\n",
            "pH                      0\n",
            "sulphates               0\n",
            "alcohol                 0\n",
            "Y                       0\n",
            "dtype: int64\n"
          ]
        },
        {
          "output_type": "execute_result",
          "data": {
            "text/plain": [
              "fixed acidity           0.0\n",
              "volatile acidity        0.0\n",
              "citric acid             0.0\n",
              "residual sugar          0.0\n",
              "chlorides               0.0\n",
              "free sulfur dioxide     0.0\n",
              "total sulfur dioxide    0.0\n",
              "density                 0.0\n",
              "pH                      0.0\n",
              "sulphates               0.0\n",
              "alcohol                 0.0\n",
              "Y                       0.0\n",
              "dtype: float64"
            ]
          },
          "metadata": {},
          "execution_count": 31
        }
      ]
    },
    {
      "cell_type": "markdown",
      "source": [
        "✅ *Summary Statistics*\n",
        "\n",
        "We did not find anything wrong after a quick look in the upper portion. \n",
        "\n",
        "`df.describe()`"
      ],
      "metadata": {
        "id": "aCOEpR8xD2Az"
      }
    },
    {
      "cell_type": "code",
      "source": [
        "df.describe(include = 'all')"
      ],
      "metadata": {
        "colab": {
          "base_uri": "https://localhost:8080/",
          "height": 278
        },
        "id": "Xvw_wDMa2j55",
        "outputId": "12410ed8-2368-4769-e01a-535dbc18242c"
      },
      "execution_count": 32,
      "outputs": [
        {
          "output_type": "execute_result",
          "data": {
            "application/vnd.google.colaboratory.module+javascript": "\n      import \"https://ssl.gstatic.com/colaboratory/data_table/81f25a011006ed3d/data_table.js\";\n\n      window.createDataTable({\n        data: [[\"count\",\n{\n            'v': 1599.0,\n            'f': \"1599.0\",\n        },\n{\n            'v': 1599.0,\n            'f': \"1599.0\",\n        },\n{\n            'v': 1599.0,\n            'f': \"1599.0\",\n        },\n{\n            'v': 1599.0,\n            'f': \"1599.0\",\n        },\n{\n            'v': 1599.0,\n            'f': \"1599.0\",\n        },\n{\n            'v': 1599.0,\n            'f': \"1599.0\",\n        },\n{\n            'v': 1599.0,\n            'f': \"1599.0\",\n        },\n{\n            'v': 1599.0,\n            'f': \"1599.0\",\n        },\n{\n            'v': 1599.0,\n            'f': \"1599.0\",\n        },\n{\n            'v': 1599.0,\n            'f': \"1599.0\",\n        },\n{\n            'v': 1599.0,\n            'f': \"1599.0\",\n        },\n{\n            'v': 1599.0,\n            'f': \"1599.0\",\n        }],\n [\"mean\",\n{\n            'v': 8.319637273295838,\n            'f': \"8.319637273295838\",\n        },\n{\n            'v': 0.5278205128205131,\n            'f': \"0.5278205128205131\",\n        },\n{\n            'v': 0.2709756097560964,\n            'f': \"0.2709756097560964\",\n        },\n{\n            'v': 2.5388055034396517,\n            'f': \"2.5388055034396517\",\n        },\n{\n            'v': 0.08746654158849257,\n            'f': \"0.08746654158849257\",\n        },\n{\n            'v': 15.874921826141339,\n            'f': \"15.874921826141339\",\n        },\n{\n            'v': 46.46779237023139,\n            'f': \"46.46779237023139\",\n        },\n{\n            'v': 0.9967466791744831,\n            'f': \"0.9967466791744831\",\n        },\n{\n            'v': 3.311113195747343,\n            'f': \"3.311113195747343\",\n        },\n{\n            'v': 0.6581488430268921,\n            'f': \"0.6581488430268921\",\n        },\n{\n            'v': 10.422983114446502,\n            'f': \"10.422983114446502\",\n        },\n{\n            'v': 5.6360225140712945,\n            'f': \"5.6360225140712945\",\n        }],\n [\"std\",\n{\n            'v': 1.7410963181277006,\n            'f': \"1.7410963181277006\",\n        },\n{\n            'v': 0.17905970415353498,\n            'f': \"0.17905970415353498\",\n        },\n{\n            'v': 0.19480113740531785,\n            'f': \"0.19480113740531785\",\n        },\n{\n            'v': 1.4099280595072805,\n            'f': \"1.4099280595072805\",\n        },\n{\n            'v': 0.047065302010090154,\n            'f': \"0.047065302010090154\",\n        },\n{\n            'v': 10.46015696980973,\n            'f': \"10.46015696980973\",\n        },\n{\n            'v': 32.89532447829901,\n            'f': \"32.89532447829901\",\n        },\n{\n            'v': 0.0018873339538425559,\n            'f': \"0.0018873339538425559\",\n        },\n{\n            'v': 0.15438646490354266,\n            'f': \"0.15438646490354266\",\n        },\n{\n            'v': 0.16950697959010977,\n            'f': \"0.16950697959010977\",\n        },\n{\n            'v': 1.0656675818563965,\n            'f': \"1.0656675818563965\",\n        },\n{\n            'v': 0.8075694397347023,\n            'f': \"0.8075694397347023\",\n        }],\n [\"min\",\n{\n            'v': 4.6,\n            'f': \"4.6\",\n        },\n{\n            'v': 0.12,\n            'f': \"0.12\",\n        },\n{\n            'v': 0.0,\n            'f': \"0.0\",\n        },\n{\n            'v': 0.9,\n            'f': \"0.9\",\n        },\n{\n            'v': 0.012,\n            'f': \"0.012\",\n        },\n{\n            'v': 1.0,\n            'f': \"1.0\",\n        },\n{\n            'v': 6.0,\n            'f': \"6.0\",\n        },\n{\n            'v': 0.99007,\n            'f': \"0.99007\",\n        },\n{\n            'v': 2.74,\n            'f': \"2.74\",\n        },\n{\n            'v': 0.33,\n            'f': \"0.33\",\n        },\n{\n            'v': 8.4,\n            'f': \"8.4\",\n        },\n{\n            'v': 3.0,\n            'f': \"3.0\",\n        }],\n [\"25%\",\n{\n            'v': 7.1,\n            'f': \"7.1\",\n        },\n{\n            'v': 0.39,\n            'f': \"0.39\",\n        },\n{\n            'v': 0.09,\n            'f': \"0.09\",\n        },\n{\n            'v': 1.9,\n            'f': \"1.9\",\n        },\n{\n            'v': 0.07,\n            'f': \"0.07\",\n        },\n{\n            'v': 7.0,\n            'f': \"7.0\",\n        },\n{\n            'v': 22.0,\n            'f': \"22.0\",\n        },\n{\n            'v': 0.9956,\n            'f': \"0.9956\",\n        },\n{\n            'v': 3.21,\n            'f': \"3.21\",\n        },\n{\n            'v': 0.55,\n            'f': \"0.55\",\n        },\n{\n            'v': 9.5,\n            'f': \"9.5\",\n        },\n{\n            'v': 5.0,\n            'f': \"5.0\",\n        }],\n [\"50%\",\n{\n            'v': 7.9,\n            'f': \"7.9\",\n        },\n{\n            'v': 0.52,\n            'f': \"0.52\",\n        },\n{\n            'v': 0.26,\n            'f': \"0.26\",\n        },\n{\n            'v': 2.2,\n            'f': \"2.2\",\n        },\n{\n            'v': 0.079,\n            'f': \"0.079\",\n        },\n{\n            'v': 14.0,\n            'f': \"14.0\",\n        },\n{\n            'v': 38.0,\n            'f': \"38.0\",\n        },\n{\n            'v': 0.99675,\n            'f': \"0.99675\",\n        },\n{\n            'v': 3.31,\n            'f': \"3.31\",\n        },\n{\n            'v': 0.62,\n            'f': \"0.62\",\n        },\n{\n            'v': 10.2,\n            'f': \"10.2\",\n        },\n{\n            'v': 6.0,\n            'f': \"6.0\",\n        }],\n [\"75%\",\n{\n            'v': 9.2,\n            'f': \"9.2\",\n        },\n{\n            'v': 0.64,\n            'f': \"0.64\",\n        },\n{\n            'v': 0.42,\n            'f': \"0.42\",\n        },\n{\n            'v': 2.6,\n            'f': \"2.6\",\n        },\n{\n            'v': 0.09,\n            'f': \"0.09\",\n        },\n{\n            'v': 21.0,\n            'f': \"21.0\",\n        },\n{\n            'v': 62.0,\n            'f': \"62.0\",\n        },\n{\n            'v': 0.997835,\n            'f': \"0.997835\",\n        },\n{\n            'v': 3.4,\n            'f': \"3.4\",\n        },\n{\n            'v': 0.73,\n            'f': \"0.73\",\n        },\n{\n            'v': 11.1,\n            'f': \"11.1\",\n        },\n{\n            'v': 6.0,\n            'f': \"6.0\",\n        }],\n [\"max\",\n{\n            'v': 15.9,\n            'f': \"15.9\",\n        },\n{\n            'v': 1.58,\n            'f': \"1.58\",\n        },\n{\n            'v': 1.0,\n            'f': \"1.0\",\n        },\n{\n            'v': 15.5,\n            'f': \"15.5\",\n        },\n{\n            'v': 0.611,\n            'f': \"0.611\",\n        },\n{\n            'v': 72.0,\n            'f': \"72.0\",\n        },\n{\n            'v': 289.0,\n            'f': \"289.0\",\n        },\n{\n            'v': 1.00369,\n            'f': \"1.00369\",\n        },\n{\n            'v': 4.01,\n            'f': \"4.01\",\n        },\n{\n            'v': 2.0,\n            'f': \"2.0\",\n        },\n{\n            'v': 14.9,\n            'f': \"14.9\",\n        },\n{\n            'v': 8.0,\n            'f': \"8.0\",\n        }]],\n        columns: [[\"string\", \"index\"], [\"number\", \"fixed acidity\"], [\"number\", \"volatile acidity\"], [\"number\", \"citric acid\"], [\"number\", \"residual sugar\"], [\"number\", \"chlorides\"], [\"number\", \"free sulfur dioxide\"], [\"number\", \"total sulfur dioxide\"], [\"number\", \"density\"], [\"number\", \"pH\"], [\"number\", \"sulphates\"], [\"number\", \"alcohol\"], [\"number\", \"Y\"]],\n        columnOptions: [{\"width\": \"1px\", \"className\": \"index_column\"}],\n        rowsPerPage: 25,\n        helpUrl: \"https://colab.research.google.com/notebooks/data_table.ipynb\",\n        suppressOutputScrolling: true,\n        minimumWidth: undefined,\n      });\n    ",
            "text/html": [
              "\n",
              "  <div id=\"df-ef3bea2a-fd02-4530-a979-95730dfb2a63\">\n",
              "    <div class=\"colab-df-container\">\n",
              "      <div>\n",
              "<style scoped>\n",
              "    .dataframe tbody tr th:only-of-type {\n",
              "        vertical-align: middle;\n",
              "    }\n",
              "\n",
              "    .dataframe tbody tr th {\n",
              "        vertical-align: top;\n",
              "    }\n",
              "\n",
              "    .dataframe thead th {\n",
              "        text-align: right;\n",
              "    }\n",
              "</style>\n",
              "<table border=\"1\" class=\"dataframe\">\n",
              "  <thead>\n",
              "    <tr style=\"text-align: right;\">\n",
              "      <th></th>\n",
              "      <th>fixed acidity</th>\n",
              "      <th>volatile acidity</th>\n",
              "      <th>citric acid</th>\n",
              "      <th>residual sugar</th>\n",
              "      <th>chlorides</th>\n",
              "      <th>free sulfur dioxide</th>\n",
              "      <th>total sulfur dioxide</th>\n",
              "      <th>density</th>\n",
              "      <th>pH</th>\n",
              "      <th>sulphates</th>\n",
              "      <th>alcohol</th>\n",
              "      <th>Y</th>\n",
              "    </tr>\n",
              "  </thead>\n",
              "  <tbody>\n",
              "    <tr>\n",
              "      <th>count</th>\n",
              "      <td>1599.000000</td>\n",
              "      <td>1599.000000</td>\n",
              "      <td>1599.000000</td>\n",
              "      <td>1599.000000</td>\n",
              "      <td>1599.000000</td>\n",
              "      <td>1599.000000</td>\n",
              "      <td>1599.000000</td>\n",
              "      <td>1599.000000</td>\n",
              "      <td>1599.000000</td>\n",
              "      <td>1599.000000</td>\n",
              "      <td>1599.000000</td>\n",
              "      <td>1599.000000</td>\n",
              "    </tr>\n",
              "    <tr>\n",
              "      <th>mean</th>\n",
              "      <td>8.319637</td>\n",
              "      <td>0.527821</td>\n",
              "      <td>0.270976</td>\n",
              "      <td>2.538806</td>\n",
              "      <td>0.087467</td>\n",
              "      <td>15.874922</td>\n",
              "      <td>46.467792</td>\n",
              "      <td>0.996747</td>\n",
              "      <td>3.311113</td>\n",
              "      <td>0.658149</td>\n",
              "      <td>10.422983</td>\n",
              "      <td>5.636023</td>\n",
              "    </tr>\n",
              "    <tr>\n",
              "      <th>std</th>\n",
              "      <td>1.741096</td>\n",
              "      <td>0.179060</td>\n",
              "      <td>0.194801</td>\n",
              "      <td>1.409928</td>\n",
              "      <td>0.047065</td>\n",
              "      <td>10.460157</td>\n",
              "      <td>32.895324</td>\n",
              "      <td>0.001887</td>\n",
              "      <td>0.154386</td>\n",
              "      <td>0.169507</td>\n",
              "      <td>1.065668</td>\n",
              "      <td>0.807569</td>\n",
              "    </tr>\n",
              "    <tr>\n",
              "      <th>min</th>\n",
              "      <td>4.600000</td>\n",
              "      <td>0.120000</td>\n",
              "      <td>0.000000</td>\n",
              "      <td>0.900000</td>\n",
              "      <td>0.012000</td>\n",
              "      <td>1.000000</td>\n",
              "      <td>6.000000</td>\n",
              "      <td>0.990070</td>\n",
              "      <td>2.740000</td>\n",
              "      <td>0.330000</td>\n",
              "      <td>8.400000</td>\n",
              "      <td>3.000000</td>\n",
              "    </tr>\n",
              "    <tr>\n",
              "      <th>25%</th>\n",
              "      <td>7.100000</td>\n",
              "      <td>0.390000</td>\n",
              "      <td>0.090000</td>\n",
              "      <td>1.900000</td>\n",
              "      <td>0.070000</td>\n",
              "      <td>7.000000</td>\n",
              "      <td>22.000000</td>\n",
              "      <td>0.995600</td>\n",
              "      <td>3.210000</td>\n",
              "      <td>0.550000</td>\n",
              "      <td>9.500000</td>\n",
              "      <td>5.000000</td>\n",
              "    </tr>\n",
              "    <tr>\n",
              "      <th>50%</th>\n",
              "      <td>7.900000</td>\n",
              "      <td>0.520000</td>\n",
              "      <td>0.260000</td>\n",
              "      <td>2.200000</td>\n",
              "      <td>0.079000</td>\n",
              "      <td>14.000000</td>\n",
              "      <td>38.000000</td>\n",
              "      <td>0.996750</td>\n",
              "      <td>3.310000</td>\n",
              "      <td>0.620000</td>\n",
              "      <td>10.200000</td>\n",
              "      <td>6.000000</td>\n",
              "    </tr>\n",
              "    <tr>\n",
              "      <th>75%</th>\n",
              "      <td>9.200000</td>\n",
              "      <td>0.640000</td>\n",
              "      <td>0.420000</td>\n",
              "      <td>2.600000</td>\n",
              "      <td>0.090000</td>\n",
              "      <td>21.000000</td>\n",
              "      <td>62.000000</td>\n",
              "      <td>0.997835</td>\n",
              "      <td>3.400000</td>\n",
              "      <td>0.730000</td>\n",
              "      <td>11.100000</td>\n",
              "      <td>6.000000</td>\n",
              "    </tr>\n",
              "    <tr>\n",
              "      <th>max</th>\n",
              "      <td>15.900000</td>\n",
              "      <td>1.580000</td>\n",
              "      <td>1.000000</td>\n",
              "      <td>15.500000</td>\n",
              "      <td>0.611000</td>\n",
              "      <td>72.000000</td>\n",
              "      <td>289.000000</td>\n",
              "      <td>1.003690</td>\n",
              "      <td>4.010000</td>\n",
              "      <td>2.000000</td>\n",
              "      <td>14.900000</td>\n",
              "      <td>8.000000</td>\n",
              "    </tr>\n",
              "  </tbody>\n",
              "</table>\n",
              "</div>\n",
              "      <button class=\"colab-df-convert\" onclick=\"convertToInteractive('df-ef3bea2a-fd02-4530-a979-95730dfb2a63')\"\n",
              "              title=\"Convert this dataframe to an interactive table.\"\n",
              "              style=\"display:none;\">\n",
              "        \n",
              "  <svg xmlns=\"http://www.w3.org/2000/svg\" height=\"24px\"viewBox=\"0 0 24 24\"\n",
              "       width=\"24px\">\n",
              "    <path d=\"M0 0h24v24H0V0z\" fill=\"none\"/>\n",
              "    <path d=\"M18.56 5.44l.94 2.06.94-2.06 2.06-.94-2.06-.94-.94-2.06-.94 2.06-2.06.94zm-11 1L8.5 8.5l.94-2.06 2.06-.94-2.06-.94L8.5 2.5l-.94 2.06-2.06.94zm10 10l.94 2.06.94-2.06 2.06-.94-2.06-.94-.94-2.06-.94 2.06-2.06.94z\"/><path d=\"M17.41 7.96l-1.37-1.37c-.4-.4-.92-.59-1.43-.59-.52 0-1.04.2-1.43.59L10.3 9.45l-7.72 7.72c-.78.78-.78 2.05 0 2.83L4 21.41c.39.39.9.59 1.41.59.51 0 1.02-.2 1.41-.59l7.78-7.78 2.81-2.81c.8-.78.8-2.07 0-2.86zM5.41 20L4 18.59l7.72-7.72 1.47 1.35L5.41 20z\"/>\n",
              "  </svg>\n",
              "      </button>\n",
              "      \n",
              "  <style>\n",
              "    .colab-df-container {\n",
              "      display:flex;\n",
              "      flex-wrap:wrap;\n",
              "      gap: 12px;\n",
              "    }\n",
              "\n",
              "    .colab-df-convert {\n",
              "      background-color: #E8F0FE;\n",
              "      border: none;\n",
              "      border-radius: 50%;\n",
              "      cursor: pointer;\n",
              "      display: none;\n",
              "      fill: #1967D2;\n",
              "      height: 32px;\n",
              "      padding: 0 0 0 0;\n",
              "      width: 32px;\n",
              "    }\n",
              "\n",
              "    .colab-df-convert:hover {\n",
              "      background-color: #E2EBFA;\n",
              "      box-shadow: 0px 1px 2px rgba(60, 64, 67, 0.3), 0px 1px 3px 1px rgba(60, 64, 67, 0.15);\n",
              "      fill: #174EA6;\n",
              "    }\n",
              "\n",
              "    [theme=dark] .colab-df-convert {\n",
              "      background-color: #3B4455;\n",
              "      fill: #D2E3FC;\n",
              "    }\n",
              "\n",
              "    [theme=dark] .colab-df-convert:hover {\n",
              "      background-color: #434B5C;\n",
              "      box-shadow: 0px 1px 3px 1px rgba(0, 0, 0, 0.15);\n",
              "      filter: drop-shadow(0px 1px 2px rgba(0, 0, 0, 0.3));\n",
              "      fill: #FFFFFF;\n",
              "    }\n",
              "  </style>\n",
              "\n",
              "      <script>\n",
              "        const buttonEl =\n",
              "          document.querySelector('#df-ef3bea2a-fd02-4530-a979-95730dfb2a63 button.colab-df-convert');\n",
              "        buttonEl.style.display =\n",
              "          google.colab.kernel.accessAllowed ? 'block' : 'none';\n",
              "\n",
              "        async function convertToInteractive(key) {\n",
              "          const element = document.querySelector('#df-ef3bea2a-fd02-4530-a979-95730dfb2a63');\n",
              "          const dataTable =\n",
              "            await google.colab.kernel.invokeFunction('convertToInteractive',\n",
              "                                                     [key], {});\n",
              "          if (!dataTable) return;\n",
              "\n",
              "          const docLinkHtml = 'Like what you see? Visit the ' +\n",
              "            '<a target=\"_blank\" href=https://colab.research.google.com/notebooks/data_table.ipynb>data table notebook</a>'\n",
              "            + ' to learn more about interactive tables.';\n",
              "          element.innerHTML = '';\n",
              "          dataTable['output_type'] = 'display_data';\n",
              "          await google.colab.output.renderOutput(dataTable, element);\n",
              "          const docLink = document.createElement('div');\n",
              "          docLink.innerHTML = docLinkHtml;\n",
              "          element.appendChild(docLink);\n",
              "        }\n",
              "      </script>\n",
              "    </div>\n",
              "  </div>\n",
              "  "
            ],
            "text/plain": [
              "       fixed acidity  volatile acidity  ...      alcohol            Y\n",
              "count    1599.000000       1599.000000  ...  1599.000000  1599.000000\n",
              "mean        8.319637          0.527821  ...    10.422983     5.636023\n",
              "std         1.741096          0.179060  ...     1.065668     0.807569\n",
              "min         4.600000          0.120000  ...     8.400000     3.000000\n",
              "25%         7.100000          0.390000  ...     9.500000     5.000000\n",
              "50%         7.900000          0.520000  ...    10.200000     6.000000\n",
              "75%         9.200000          0.640000  ...    11.100000     6.000000\n",
              "max        15.900000          1.580000  ...    14.900000     8.000000\n",
              "\n",
              "[8 rows x 12 columns]"
            ]
          },
          "metadata": {},
          "execution_count": 32
        }
      ]
    },
    {
      "cell_type": "markdown",
      "source": [
        "### ✅ *To summarrize all operation so far:*\n",
        "The dataset contains 1,599 rows and 12 columns with only float and integer value , which is where we’ll focus our analysis.\n",
        "\n"
      ],
      "metadata": {
        "id": "k82XALwELn0J"
      }
    },
    {
      "cell_type": "markdown",
      "metadata": {
        "id": "yj3JZGVrGPK6"
      },
      "source": [
        "#**[💀] 2. EDA on the wine Red Wine Quality**"
      ]
    },
    {
      "cell_type": "markdown",
      "source": [
        "2.1 Check the columns's data, we will find the feature name\n",
        "* Relation between 1 integer and the other float*\n",
        "* Unique value in each features *italicized text*"
      ],
      "metadata": {
        "id": "CayM9ORFWObt"
      }
    },
    {
      "cell_type": "code",
      "source": [
        "from pandas.core.frame import DataFrame\n",
        "DataFrame.columns\n",
        "df.info()"
      ],
      "metadata": {
        "id": "ba5szT9byKHJ",
        "colab": {
          "base_uri": "https://localhost:8080/",
          "height": 0
        },
        "outputId": "2e5d77d9-b12f-40fa-abcb-182c314aa396"
      },
      "execution_count": 33,
      "outputs": [
        {
          "output_type": "stream",
          "name": "stdout",
          "text": [
            "<class 'pandas.core.frame.DataFrame'>\n",
            "RangeIndex: 1599 entries, 0 to 1598\n",
            "Data columns (total 12 columns):\n",
            " #   Column                Non-Null Count  Dtype  \n",
            "---  ------                --------------  -----  \n",
            " 0   fixed acidity         1599 non-null   float64\n",
            " 1   volatile acidity      1599 non-null   float64\n",
            " 2   citric acid           1599 non-null   float64\n",
            " 3   residual sugar        1599 non-null   float64\n",
            " 4   chlorides             1599 non-null   float64\n",
            " 5   free sulfur dioxide   1599 non-null   float64\n",
            " 6   total sulfur dioxide  1599 non-null   float64\n",
            " 7   density               1599 non-null   float64\n",
            " 8   pH                    1599 non-null   float64\n",
            " 9   sulphates             1599 non-null   float64\n",
            " 10  alcohol               1599 non-null   float64\n",
            " 11  Y                     1599 non-null   int64  \n",
            "dtypes: float64(11), int64(1)\n",
            "memory usage: 150.0 KB\n"
          ]
        }
      ]
    },
    {
      "cell_type": "code",
      "source": [
        "df.columns.values"
      ],
      "metadata": {
        "colab": {
          "base_uri": "https://localhost:8080/",
          "height": 182
        },
        "id": "1oGWbPUKhrhR",
        "outputId": "fe166461-2080-4704-aa32-4a2e3ec5c32d"
      },
      "execution_count": 55,
      "outputs": [
        {
          "output_type": "error",
          "ename": "TypeError",
          "evalue": "ignored",
          "traceback": [
            "\u001b[0;31m---------------------------------------------------------------------------\u001b[0m",
            "\u001b[0;31mTypeError\u001b[0m                                 Traceback (most recent call last)",
            "\u001b[0;32m<ipython-input-55-0ec07c963642>\u001b[0m in \u001b[0;36m<module>\u001b[0;34m()\u001b[0m\n\u001b[1;32m      1\u001b[0m \u001b[0mdf\u001b[0m\u001b[0;34m.\u001b[0m\u001b[0mcolumns\u001b[0m\u001b[0;34m.\u001b[0m\u001b[0mvalues\u001b[0m\u001b[0;34m\u001b[0m\u001b[0;34m\u001b[0m\u001b[0m\n\u001b[0;32m----> 2\u001b[0;31m \u001b[0mfeatures\u001b[0m \u001b[0;34m=\u001b[0m \u001b[0mlist\u001b[0m\u001b[0;34m[\u001b[0m\u001b[0mdf\u001b[0m\u001b[0;34m.\u001b[0m\u001b[0mcolumns\u001b[0m\u001b[0;34m.\u001b[0m\u001b[0mvalues\u001b[0m\u001b[0;34m]\u001b[0m\u001b[0;34m\u001b[0m\u001b[0;34m\u001b[0m\u001b[0m\n\u001b[0m",
            "\u001b[0;31mTypeError\u001b[0m: 'type' object is not subscriptable"
          ]
        }
      ]
    },
    {
      "cell_type": "code",
      "source": [
        "for col in df.columns.values:\n",
        "    print(\"Number of unique values of {} : {}\".format(col, df[col].nunique()))"
      ],
      "metadata": {
        "colab": {
          "base_uri": "https://localhost:8080/",
          "height": 0
        },
        "id": "RbrpgV1kVZDL",
        "outputId": "12af6dac-80f2-48d3-b033-c5f62f79b7b4"
      },
      "execution_count": 35,
      "outputs": [
        {
          "output_type": "stream",
          "name": "stdout",
          "text": [
            "Number of unique values of fixed acidity : 96\n",
            "Number of unique values of volatile acidity : 143\n",
            "Number of unique values of citric acid : 80\n",
            "Number of unique values of residual sugar : 91\n",
            "Number of unique values of chlorides : 153\n",
            "Number of unique values of free sulfur dioxide : 60\n",
            "Number of unique values of total sulfur dioxide : 144\n",
            "Number of unique values of density : 436\n",
            "Number of unique values of pH : 89\n",
            "Number of unique values of sulphates : 96\n",
            "Number of unique values of alcohol : 65\n",
            "Number of unique values of Y : 6\n"
          ]
        }
      ]
    },
    {
      "cell_type": "markdown",
      "source": [
        "* 📑 The feature that has a maximum unique value is ***density***.\n",
        "* 📑 The feature that has a minimum unique value is ***Y***."
      ],
      "metadata": {
        "id": "CSkA_BfscEO_"
      }
    },
    {
      "cell_type": "markdown",
      "source": [
        "2.2 Check the relationship between a numerical and one or more categorical variables\n",
        "* 📑“Y” has a high number of values in categories 5, 6 and 7.\n",
        "* 📑Only a few observations are there for the categories 3 & 9.\n",
        "* 📑Leading to Imbalance data"
      ],
      "metadata": {
        "id": "c_5F3RuydbDS"
      }
    },
    {
      "cell_type": "code",
      "source": [
        "sns.catplot(x='Y', data=df,kind='count')"
      ],
      "metadata": {
        "colab": {
          "base_uri": "https://localhost:8080/",
          "height": 386
        },
        "id": "ufQOMVQuQJrV",
        "outputId": "7ae8b360-8ec6-49bd-a82c-e11120033431"
      },
      "execution_count": 36,
      "outputs": [
        {
          "output_type": "execute_result",
          "data": {
            "text/plain": [
              "<seaborn.axisgrid.FacetGrid at 0x7fa237912fd0>"
            ]
          },
          "metadata": {},
          "execution_count": 36
        },
        {
          "output_type": "display_data",
          "data": {
            "image/png": "[encoded data removed]",
            "text/plain": [
              "<Figure size 360x360 with 1 Axes>"
            ]
          },
          "metadata": {
            "needs_background": "light"
          }
        }
      ]
    },
    {
      "cell_type": "markdown",
      "source": [
        "2.3 Check the correlation between variables\n",
        "* 📑***Strong Correlation***\n",
        "    * \"*density*\" has a strong positive correlation with \"*residual sugar*\", whereas it has a strong negative correlation with \"*alcohol*\".\n",
        "\n",
        "* 📑***Negative Direction***\n",
        "    * \"*pH*\" & \"*fixed acidity*\" has negative correlation.\n",
        "    * \"*citric acid*\" & \"*volatile acidity*\" has negative correlation.\n",
        "    \n",
        "* 📑***Positive Direction***\n",
        "    * \"*density*\" & \"*fixed acidity*\" has positive correlation.\n",
        "    * \"*citric acid*\" & \"*fixed acidity*\" has positive correlation.\n",
        "    * \"*free sulphur dioxide*\" & \"*total sulphur dioxide*\" has positive correlation."
      ],
      "metadata": {
        "id": "ST7OMtZmQZr7"
      }
    },
    {
      "cell_type": "code",
      "source": [
        "plt.figure(figsize=(10,10))\n",
        "sns.heatmap(df.corr(),color=\"k\", annot=True)"
      ],
      "metadata": {
        "colab": {
          "base_uri": "https://localhost:8080/",
          "height": 696
        },
        "id": "kUYktoKtrn_a",
        "outputId": "2d511442-fe6c-41c8-8cb2-08f51cd73dec"
      },
      "execution_count": 37,
      "outputs": [
        {
          "output_type": "execute_result",
          "data": {
            "text/plain": [
              "<matplotlib.axes._subplots.AxesSubplot at 0x7fa236091650>"
            ]
          },
          "metadata": {},
          "execution_count": 37
        },
        {
          "output_type": "display_data",
          "data": {
            "image/png": "[encoded data removed]",
            "text/plain": [
              "<Figure size 720x720 with 2 Axes>"
            ]
          },
          "metadata": {
            "needs_background": "light"
          }
        }
      ]
    },
    {
      "cell_type": "markdown",
      "source": [
        "2.4 Check the variable distribution with box plot , we define the outliers are point outside the 1.5xIQR or more below the 1st quartile\n",
        "* 📑Except for \"***alcohol***\" all other variable have outliers\n",
        "\n",
        "* 📑Noted - Regarding from Boxplots\n",
        "    * Some of the variables, e.g . free sulphur dioxide, density, \"*have a few outliers*\" but these are very different from the rest.\n",
        "    * Mostly outliers are on the \"*larger side*\".\n",
        "    * \"*Fixed acidity*\", \"*volatile acidity*\" and \"*citric acid*\" have outliers.\n",
        "  > If those outliers are eliminated distribution of the variables may be taken to be symmetric.\n",
        "    * \"*Residual sugar*\" has a positively skewed distribution; \n",
        "  > Even after eliminating the outliers distribution will remain skewed.\n"
      ],
      "metadata": {
        "id": "IIDEx_8rUxMt"
      }
    },
    {
      "cell_type": "code",
      "source": [
        "plt.figure(figsize=(10,15))\n",
        "for i, col in enumerate(list(df.columns.values)):\n",
        "    plt.subplot(4,3,i+1)\n",
        "    df.boxplot(col)\n",
        "    plt.grid()\n",
        "    plt.tight_layout()"
      ],
      "metadata": {
        "colab": {
          "base_uri": "https://localhost:8080/",
          "height": 1000
        },
        "id": "NTDmBtL-Uvrl",
        "outputId": "16968103-344c-4003-c589-7d4f7ed86d28"
      },
      "execution_count": 38,
      "outputs": [
        {
          "output_type": "display_data",
          "data": {
            "image/png": "[encoded data removed]",
            "text/plain": [
              "<Figure size 720x1080 with 12 Axes>"
            ]
          },
          "metadata": {
            "needs_background": "light"
          }
        }
      ]
    },
    {
      "cell_type": "markdown",
      "source": [
        "✅2.4 (Removeal or Outliers) Treating the outliers that we have detected using Boxplot in the previous section as follow step;\n",
        "\n",
        "*   All data are in lower bound (Q1x1.5xIQR) and upper bound (Q3x1.5xIQR) will replace with \"*NULL Value*\"\n",
        "*   List item\n",
        "\n"
      ],
      "metadata": {
        "id": "KIg19fjPbHK1"
      }
    },
    {
      "cell_type": "code",
      "source": [
        "#Select the Outliner and replace with NULL value\n",
        "##for i in [df.columns.values]:  ##revise to variable \"List\" here to variable\n",
        "    q75,q25 = np.percentile(df.loc[:,i],[75,25])\n",
        "    intr_qr = q75-q25\n",
        " \n",
        "    max = q75+(1.5*intr_qr)\n",
        "    min = q25-(1.5*intr_qr)\n",
        " \n",
        "    df.loc[df[i] < min,i] = np.nan\n",
        "    df.loc[df[i] > max,i] = np.nan"
      ],
      "metadata": {
        "id": "qt6th7oIWR4B"
      },
      "execution_count": null,
      "outputs": []
    },
    {
      "cell_type": "code",
      "source": [
        "#Have 2 way to do this step  \"Impute\" or \"Drop\"\n",
        "##If impute (Mean, Median, KNN), see the skwness before cheese step"
      ],
      "metadata": {
        "id": "dkLH-z1uqAEv"
      },
      "execution_count": null,
      "outputs": []
    },
    {
      "cell_type": "markdown",
      "source": [
        ""
      ],
      "metadata": {
        "id": "Cz5T0mxprBH0"
      }
    }
  ],
  "metadata": {
    "kernelspec": {
      "display_name": "Python 3",
      "language": "python",
      "name": "python3"
    },
    "language_info": {
      "codemirror_mode": {
        "name": "ipython",
        "version": 3
      },
      "file_extension": ".py",
      "mimetype": "text/x-python",
      "name": "python",
      "nbconvert_exporter": "python",
      "pygments_lexer": "ipython3",
      "version": "3.8.1"
    },
    "colab": {
      "name": "HW01-EDA_Parameter Tuning.ipynb",
      "provenance": [],
      "collapsed_sections": [
        "k82XALwELn0J"
      ],
      "include_colab_link": true
    }
  },
  "nbformat": 4,
  "nbformat_minor": 0
}